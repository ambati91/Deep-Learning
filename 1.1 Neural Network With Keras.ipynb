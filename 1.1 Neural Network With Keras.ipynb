{
 "cells": [
  {
   "cell_type": "code",
   "execution_count": 1,
   "metadata": {},
   "outputs": [
    {
     "name": "stderr",
     "output_type": "stream",
     "text": [
      "Using TensorFlow backend.\n",
      "WARNING:root:Limited tf.compat.v2.summary API due to missing TensorBoard installation.\n"
     ]
    }
   ],
   "source": [
    "import numpy\n",
    "import pandas as pd\n",
    "from keras.models import Sequential\n",
    "from keras.layers import Dense\n",
    "import warnings\n",
    "warnings.filterwarnings('ignore')"
   ]
  },
  {
   "cell_type": "markdown",
   "metadata": {},
   "source": [
    "## Load Data "
   ]
  },
  {
   "cell_type": "code",
   "execution_count": 2,
   "metadata": {},
   "outputs": [
    {
     "data": {
      "text/html": [
       "<div>\n",
       "<style scoped>\n",
       "    .dataframe tbody tr th:only-of-type {\n",
       "        vertical-align: middle;\n",
       "    }\n",
       "\n",
       "    .dataframe tbody tr th {\n",
       "        vertical-align: top;\n",
       "    }\n",
       "\n",
       "    .dataframe thead th {\n",
       "        text-align: right;\n",
       "    }\n",
       "</style>\n",
       "<table border=\"1\" class=\"dataframe\">\n",
       "  <thead>\n",
       "    <tr style=\"text-align: right;\">\n",
       "      <th></th>\n",
       "      <th>6</th>\n",
       "      <th>148</th>\n",
       "      <th>72</th>\n",
       "      <th>35</th>\n",
       "      <th>0</th>\n",
       "      <th>33.6</th>\n",
       "      <th>0.627</th>\n",
       "      <th>50</th>\n",
       "      <th>1</th>\n",
       "    </tr>\n",
       "  </thead>\n",
       "  <tbody>\n",
       "    <tr>\n",
       "      <td>0</td>\n",
       "      <td>1</td>\n",
       "      <td>85</td>\n",
       "      <td>66</td>\n",
       "      <td>29</td>\n",
       "      <td>0</td>\n",
       "      <td>26.6</td>\n",
       "      <td>0.351</td>\n",
       "      <td>31</td>\n",
       "      <td>0</td>\n",
       "    </tr>\n",
       "    <tr>\n",
       "      <td>1</td>\n",
       "      <td>8</td>\n",
       "      <td>183</td>\n",
       "      <td>64</td>\n",
       "      <td>0</td>\n",
       "      <td>0</td>\n",
       "      <td>23.3</td>\n",
       "      <td>0.672</td>\n",
       "      <td>32</td>\n",
       "      <td>1</td>\n",
       "    </tr>\n",
       "    <tr>\n",
       "      <td>2</td>\n",
       "      <td>1</td>\n",
       "      <td>89</td>\n",
       "      <td>66</td>\n",
       "      <td>23</td>\n",
       "      <td>94</td>\n",
       "      <td>28.1</td>\n",
       "      <td>0.167</td>\n",
       "      <td>21</td>\n",
       "      <td>0</td>\n",
       "    </tr>\n",
       "    <tr>\n",
       "      <td>3</td>\n",
       "      <td>0</td>\n",
       "      <td>137</td>\n",
       "      <td>40</td>\n",
       "      <td>35</td>\n",
       "      <td>168</td>\n",
       "      <td>43.1</td>\n",
       "      <td>2.288</td>\n",
       "      <td>33</td>\n",
       "      <td>1</td>\n",
       "    </tr>\n",
       "    <tr>\n",
       "      <td>4</td>\n",
       "      <td>5</td>\n",
       "      <td>116</td>\n",
       "      <td>74</td>\n",
       "      <td>0</td>\n",
       "      <td>0</td>\n",
       "      <td>25.6</td>\n",
       "      <td>0.201</td>\n",
       "      <td>30</td>\n",
       "      <td>0</td>\n",
       "    </tr>\n",
       "  </tbody>\n",
       "</table>\n",
       "</div>"
      ],
      "text/plain": [
       "   6  148  72  35    0  33.6  0.627  50  1\n",
       "0  1   85  66  29    0  26.6  0.351  31  0\n",
       "1  8  183  64   0    0  23.3  0.672  32  1\n",
       "2  1   89  66  23   94  28.1  0.167  21  0\n",
       "3  0  137  40  35  168  43.1  2.288  33  1\n",
       "4  5  116  74   0    0  25.6  0.201  30  0"
      ]
     },
     "execution_count": 2,
     "metadata": {},
     "output_type": "execute_result"
    }
   ],
   "source": [
    "dataset = pd.read_csv('pima-indians-diabetes.csv')\n",
    "dataset.head()"
   ]
  },
  {
   "cell_type": "code",
   "execution_count": 3,
   "metadata": {},
   "outputs": [],
   "source": [
    "# fix random seed for reproducibility\n",
    "seed = 7\n",
    "numpy.random.seed(seed)"
   ]
  },
  {
   "cell_type": "code",
   "execution_count": 4,
   "metadata": {},
   "outputs": [],
   "source": [
    "X = dataset.iloc[:,:-1]\n",
    "Y = dataset.iloc[:,-1]"
   ]
  },
  {
   "cell_type": "markdown",
   "metadata": {},
   "source": [
    "## Define Model "
   ]
  },
  {
   "cell_type": "code",
   "execution_count": 5,
   "metadata": {},
   "outputs": [],
   "source": [
    "# create model\n",
    "model = Sequential()\n",
    "model.add(Dense(12,input_dim = 8, init = 'uniform', activation = 'relu'))\n",
    "model.add(Dense(8, init = 'uniform', activation = 'relu'))\n",
    "model.add(Dense(1, init = 'uniform', activation = 'sigmoid'))"
   ]
  },
  {
   "cell_type": "markdown",
   "metadata": {},
   "source": [
    "- Fully connected layers are deﬁned using the Dense class. We can specify the number of neurons in the layer as the ﬁrst argument, the initialization method as the second argument as init and specify the activation function using the activation argument. In this case we initialize the network weights to a small random number generated from a uniform distribution (uniform), in this case between 0 and 0.05 because that is the default uniform weight initialization in Keras. Another traditional alternative would be normal for small random numbers generated from a Gaussian distribution. \n",
    "\n",
    "-  The ﬁrst hidden layer has 12 neurons and expects 8 input variables. The second hidden layer has 8 neurons and ﬁnally the output layer has 1 neuron to predict the class (onset of diabetes or not)."
   ]
  },
  {
   "cell_type": "markdown",
   "metadata": {},
   "source": [
    "## Compile Model "
   ]
  },
  {
   "cell_type": "code",
   "execution_count": 6,
   "metadata": {},
   "outputs": [
    {
     "name": "stdout",
     "output_type": "stream",
     "text": [
      "WARNING:tensorflow:From C:\\Users\\alekh\\AppData\\Local\\conda\\conda\\envs\\Tensorflow\\lib\\site-packages\\tensorflow\\python\\ops\\nn_impl.py:180: add_dispatch_support.<locals>.wrapper (from tensorflow.python.ops.array_ops) is deprecated and will be removed in a future version.\n",
      "Instructions for updating:\n",
      "Use tf.where in 2.0, which has the same broadcast rule as np.where\n"
     ]
    },
    {
     "name": "stderr",
     "output_type": "stream",
     "text": [
      "WARNING:tensorflow:From C:\\Users\\alekh\\AppData\\Local\\conda\\conda\\envs\\Tensorflow\\lib\\site-packages\\tensorflow\\python\\ops\\nn_impl.py:180: add_dispatch_support.<locals>.wrapper (from tensorflow.python.ops.array_ops) is deprecated and will be removed in a future version.\n",
      "Instructions for updating:\n",
      "Use tf.where in 2.0, which has the same broadcast rule as np.where\n"
     ]
    }
   ],
   "source": [
    "# compile model\n",
    "model.compile(loss = 'binary_crossentropy', optimizer = 'adam',metrics = ['accuracy'])"
   ]
  },
  {
   "cell_type": "markdown",
   "metadata": {},
   "source": [
    "- We must specify the loss function to use to evaluate a set of weights, the optimizer used to search through di↵erent weights for the network and any optional metrics we would like to collect and report during training. In this case we will use logarithmic loss, which for a binary classiﬁcation problem is deﬁned in Keras as binary crossentropy. We will also use the ecient gradient descent algorithm adam for no other reason that it is an ecient default. Learn more about the Adam optimization algorithm in the paper Adam: A Method for Stochastic Optimization4. Finally, because it is a classiﬁcation problem, we will collect and report the classiﬁcation accuracy as the metric."
   ]
  },
  {
   "cell_type": "markdown",
   "metadata": {},
   "source": [
    "## Fit Model "
   ]
  },
  {
   "cell_type": "code",
   "execution_count": 7,
   "metadata": {},
   "outputs": [
    {
     "name": "stdout",
     "output_type": "stream",
     "text": [
      "WARNING:tensorflow:From C:\\Users\\alekh\\AppData\\Local\\conda\\conda\\envs\\Tensorflow\\lib\\site-packages\\keras\\backend\\tensorflow_backend.py:422: The name tf.global_variables is deprecated. Please use tf.compat.v1.global_variables instead.\n",
      "\n"
     ]
    },
    {
     "name": "stderr",
     "output_type": "stream",
     "text": [
      "WARNING:tensorflow:From C:\\Users\\alekh\\AppData\\Local\\conda\\conda\\envs\\Tensorflow\\lib\\site-packages\\keras\\backend\\tensorflow_backend.py:422: The name tf.global_variables is deprecated. Please use tf.compat.v1.global_variables instead.\n",
      "\n"
     ]
    },
    {
     "name": "stdout",
     "output_type": "stream",
     "text": [
      "Epoch 1/150\n",
      "767/767 [==============================] - 0s 330us/step - loss: 0.6772 - accuracy: 0.6519\n",
      "Epoch 2/150\n",
      "767/767 [==============================] - 0s 113us/step - loss: 0.6606 - accuracy: 0.6519\n",
      "Epoch 3/150\n",
      "767/767 [==============================] - 0s 122us/step - loss: 0.6506 - accuracy: 0.6519\n",
      "Epoch 4/150\n",
      "767/767 [==============================] - 0s 116us/step - loss: 0.6411 - accuracy: 0.6519\n",
      "Epoch 5/150\n",
      "767/767 [==============================] - 0s 118us/step - loss: 0.6255 - accuracy: 0.6519\n",
      "Epoch 6/150\n",
      "767/767 [==============================] - 0s 121us/step - loss: 0.6150 - accuracy: 0.6519\n",
      "Epoch 7/150\n",
      "767/767 [==============================] - 0s 117us/step - loss: 0.6128 - accuracy: 0.6519\n",
      "Epoch 8/150\n",
      "767/767 [==============================] - 0s 120us/step - loss: 0.6081 - accuracy: 0.6519\n",
      "Epoch 9/150\n",
      "767/767 [==============================] - 0s 114us/step - loss: 0.6032 - accuracy: 0.6519\n",
      "Epoch 10/150\n",
      "767/767 [==============================] - 0s 113us/step - loss: 0.6008 - accuracy: 0.6519\n",
      "Epoch 11/150\n",
      "767/767 [==============================] - 0s 121us/step - loss: 0.6045 - accuracy: 0.6519\n",
      "Epoch 12/150\n",
      "767/767 [==============================] - 0s 120us/step - loss: 0.6122 - accuracy: 0.6519\n",
      "Epoch 13/150\n",
      "767/767 [==============================] - 0s 129us/step - loss: 0.6000 - accuracy: 0.6519\n",
      "Epoch 14/150\n",
      "767/767 [==============================] - 0s 114us/step - loss: 0.6026 - accuracy: 0.6519\n",
      "Epoch 15/150\n",
      "767/767 [==============================] - 0s 125us/step - loss: 0.5983 - accuracy: 0.6519\n",
      "Epoch 16/150\n",
      "767/767 [==============================] - 0s 129us/step - loss: 0.6038 - accuracy: 0.6519\n",
      "Epoch 17/150\n",
      "767/767 [==============================] - 0s 157us/step - loss: 0.5951 - accuracy: 0.6519\n",
      "Epoch 18/150\n",
      "767/767 [==============================] - 0s 131us/step - loss: 0.5997 - accuracy: 0.6519\n",
      "Epoch 19/150\n",
      "767/767 [==============================] - 0s 122us/step - loss: 0.5971 - accuracy: 0.6519\n",
      "Epoch 20/150\n",
      "767/767 [==============================] - 0s 125us/step - loss: 0.5937 - accuracy: 0.6519\n",
      "Epoch 21/150\n",
      "767/767 [==============================] - 0s 122us/step - loss: 0.5947 - accuracy: 0.6519\n",
      "Epoch 22/150\n",
      "767/767 [==============================] - 0s 120us/step - loss: 0.5913 - accuracy: 0.6519\n",
      "Epoch 23/150\n",
      "767/767 [==============================] - 0s 114us/step - loss: 0.5932 - accuracy: 0.6519\n",
      "Epoch 24/150\n",
      "767/767 [==============================] - 0s 114us/step - loss: 0.5927 - accuracy: 0.6519\n",
      "Epoch 25/150\n",
      "767/767 [==============================] - 0s 121us/step - loss: 0.5871 - accuracy: 0.6519\n",
      "Epoch 26/150\n",
      "767/767 [==============================] - 0s 113us/step - loss: 0.6053 - accuracy: 0.6519\n",
      "Epoch 27/150\n",
      "767/767 [==============================] - 0s 118us/step - loss: 0.5885 - accuracy: 0.6519\n",
      "Epoch 28/150\n",
      "767/767 [==============================] - 0s 118us/step - loss: 0.5863 - accuracy: 0.6519\n",
      "Epoch 29/150\n",
      "767/767 [==============================] - 0s 124us/step - loss: 0.5894 - accuracy: 0.6519\n",
      "Epoch 30/150\n",
      "767/767 [==============================] - 0s 129us/step - loss: 0.5870 - accuracy: 0.6519\n",
      "Epoch 31/150\n",
      "767/767 [==============================] - 0s 116us/step - loss: 0.5881 - accuracy: 0.6519\n",
      "Epoch 32/150\n",
      "767/767 [==============================] - 0s 118us/step - loss: 0.5845 - accuracy: 0.6519\n",
      "Epoch 33/150\n",
      "767/767 [==============================] - 0s 116us/step - loss: 0.5879 - accuracy: 0.6519\n",
      "Epoch 34/150\n",
      "767/767 [==============================] - 0s 117us/step - loss: 0.5857 - accuracy: 0.6519\n",
      "Epoch 35/150\n",
      "767/767 [==============================] - 0s 135us/step - loss: 0.5806 - accuracy: 0.6519\n",
      "Epoch 36/150\n",
      "767/767 [==============================] - 0s 163us/step - loss: 0.5807 - accuracy: 0.6519\n",
      "Epoch 37/150\n",
      "767/767 [==============================] - 0s 147us/step - loss: 0.5866 - accuracy: 0.6506\n",
      "Epoch 38/150\n",
      "767/767 [==============================] - 0s 151us/step - loss: 0.5792 - accuracy: 0.6962\n",
      "Epoch 39/150\n",
      "767/767 [==============================] - 0s 127us/step - loss: 0.5889 - accuracy: 0.6936\n",
      "Epoch 40/150\n",
      "767/767 [==============================] - 0s 114us/step - loss: 0.5807 - accuracy: 0.7040\n",
      "Epoch 41/150\n",
      "767/767 [==============================] - 0s 114us/step - loss: 0.5796 - accuracy: 0.7093\n",
      "Epoch 42/150\n",
      "767/767 [==============================] - 0s 120us/step - loss: 0.5803 - accuracy: 0.6897\n",
      "Epoch 43/150\n",
      "767/767 [==============================] - 0s 118us/step - loss: 0.5767 - accuracy: 0.7066\n",
      "Epoch 44/150\n",
      "767/767 [==============================] - 0s 118us/step - loss: 0.5802 - accuracy: 0.6962\n",
      "Epoch 45/150\n",
      "767/767 [==============================] - 0s 121us/step - loss: 0.5810 - accuracy: 0.6949\n",
      "Epoch 46/150\n",
      "767/767 [==============================] - 0s 121us/step - loss: 0.5775 - accuracy: 0.7053\n",
      "Epoch 47/150\n",
      "767/767 [==============================] - 0s 114us/step - loss: 0.5829 - accuracy: 0.7027\n",
      "Epoch 48/150\n",
      "767/767 [==============================] - 0s 120us/step - loss: 0.5788 - accuracy: 0.7053\n",
      "Epoch 49/150\n",
      "767/767 [==============================] - 0s 124us/step - loss: 0.5725 - accuracy: 0.7145\n",
      "Epoch 50/150\n",
      "767/767 [==============================] - 0s 117us/step - loss: 0.5774 - accuracy: 0.6975\n",
      "Epoch 51/150\n",
      "767/767 [==============================] - 0s 157us/step - loss: 0.5742 - accuracy: 0.7014\n",
      "Epoch 52/150\n",
      "767/767 [==============================] - 0s 127us/step - loss: 0.5705 - accuracy: 0.7093\n",
      "Epoch 53/150\n",
      "767/767 [==============================] - 0s 116us/step - loss: 0.5740 - accuracy: 0.7066\n",
      "Epoch 54/150\n",
      "767/767 [==============================] - 0s 120us/step - loss: 0.5711 - accuracy: 0.7066\n",
      "Epoch 55/150\n",
      "767/767 [==============================] - 0s 125us/step - loss: 0.5795 - accuracy: 0.6962\n",
      "Epoch 56/150\n",
      "767/767 [==============================] - 0s 127us/step - loss: 0.5710 - accuracy: 0.7040\n",
      "Epoch 57/150\n",
      "767/767 [==============================] - 0s 122us/step - loss: 0.5826 - accuracy: 0.7171\n",
      "Epoch 58/150\n",
      "767/767 [==============================] - 0s 124us/step - loss: 0.5764 - accuracy: 0.7171\n",
      "Epoch 59/150\n",
      "767/767 [==============================] - 0s 125us/step - loss: 0.5697 - accuracy: 0.6936\n",
      "Epoch 60/150\n",
      "767/767 [==============================] - 0s 130us/step - loss: 0.5740 - accuracy: 0.7093\n",
      "Epoch 61/150\n",
      "767/767 [==============================] - 0s 131us/step - loss: 0.5661 - accuracy: 0.6962\n",
      "Epoch 62/150\n",
      "767/767 [==============================] - 0s 125us/step - loss: 0.5673 - accuracy: 0.7145\n",
      "Epoch 63/150\n",
      "767/767 [==============================] - 0s 124us/step - loss: 0.5778 - accuracy: 0.6988\n",
      "Epoch 64/150\n",
      "767/767 [==============================] - 0s 125us/step - loss: 0.5671 - accuracy: 0.7001\n",
      "Epoch 65/150\n",
      "767/767 [==============================] - 0s 125us/step - loss: 0.5670 - accuracy: 0.7014\n",
      "Epoch 66/150\n",
      "767/767 [==============================] - 0s 127us/step - loss: 0.5634 - accuracy: 0.7158\n",
      "Epoch 67/150\n",
      "767/767 [==============================] - 0s 120us/step - loss: 0.5661 - accuracy: 0.7275\n",
      "Epoch 68/150\n",
      "767/767 [==============================] - 0s 117us/step - loss: 0.5632 - accuracy: 0.7184\n",
      "Epoch 69/150\n",
      "767/767 [==============================] - 0s 135us/step - loss: 0.5574 - accuracy: 0.7145\n",
      "Epoch 70/150\n",
      "767/767 [==============================] - 0s 116us/step - loss: 0.5586 - accuracy: 0.7223\n",
      "Epoch 71/150\n",
      "767/767 [==============================] - 0s 153us/step - loss: 0.5582 - accuracy: 0.7223\n",
      "Epoch 72/150\n",
      "767/767 [==============================] - 0s 150us/step - loss: 0.5604 - accuracy: 0.7210\n",
      "Epoch 73/150\n",
      "767/767 [==============================] - 0s 148us/step - loss: 0.5541 - accuracy: 0.7210\n",
      "Epoch 74/150\n",
      "767/767 [==============================] - 0s 126us/step - loss: 0.5551 - accuracy: 0.7145\n",
      "Epoch 75/150\n",
      "767/767 [==============================] - 0s 121us/step - loss: 0.5589 - accuracy: 0.7119\n",
      "Epoch 76/150\n",
      "767/767 [==============================] - 0s 117us/step - loss: 0.5515 - accuracy: 0.7119\n",
      "Epoch 77/150\n",
      "767/767 [==============================] - 0s 127us/step - loss: 0.5503 - accuracy: 0.7262\n",
      "Epoch 78/150\n",
      "767/767 [==============================] - 0s 130us/step - loss: 0.5516 - accuracy: 0.7210\n",
      "Epoch 79/150\n"
     ]
    },
    {
     "name": "stdout",
     "output_type": "stream",
     "text": [
      "767/767 [==============================] - 0s 137us/step - loss: 0.5531 - accuracy: 0.7249\n",
      "Epoch 80/150\n",
      "767/767 [==============================] - 0s 143us/step - loss: 0.5587 - accuracy: 0.7197\n",
      "Epoch 81/150\n",
      "767/767 [==============================] - 0s 135us/step - loss: 0.5493 - accuracy: 0.7197\n",
      "Epoch 82/150\n",
      "767/767 [==============================] - 0s 131us/step - loss: 0.5471 - accuracy: 0.7210\n",
      "Epoch 83/150\n",
      "767/767 [==============================] - 0s 122us/step - loss: 0.5514 - accuracy: 0.7210\n",
      "Epoch 84/150\n",
      "767/767 [==============================] - 0s 112us/step - loss: 0.5495 - accuracy: 0.7184\n",
      "Epoch 85/150\n",
      "767/767 [==============================] - 0s 114us/step - loss: 0.5510 - accuracy: 0.7080\n",
      "Epoch 86/150\n",
      "767/767 [==============================] - 0s 116us/step - loss: 0.5496 - accuracy: 0.7066\n",
      "Epoch 87/150\n",
      "767/767 [==============================] - 0s 113us/step - loss: 0.5453 - accuracy: 0.7106\n",
      "Epoch 88/150\n",
      "767/767 [==============================] - 0s 116us/step - loss: 0.5436 - accuracy: 0.7301\n",
      "Epoch 89/150\n",
      "767/767 [==============================] - 0s 111us/step - loss: 0.5370 - accuracy: 0.7197\n",
      "Epoch 90/150\n",
      "767/767 [==============================] - 0s 116us/step - loss: 0.5387 - accuracy: 0.7249\n",
      "Epoch 91/150\n",
      "767/767 [==============================] - 0s 117us/step - loss: 0.5457 - accuracy: 0.7249\n",
      "Epoch 92/150\n",
      "767/767 [==============================] - 0s 117us/step - loss: 0.5410 - accuracy: 0.7210\n",
      "Epoch 93/150\n",
      "767/767 [==============================] - 0s 114us/step - loss: 0.5413 - accuracy: 0.7249\n",
      "Epoch 94/150\n",
      "767/767 [==============================] - 0s 117us/step - loss: 0.5384 - accuracy: 0.7106\n",
      "Epoch 95/150\n",
      "767/767 [==============================] - 0s 114us/step - loss: 0.5411 - accuracy: 0.7288\n",
      "Epoch 96/150\n",
      "767/767 [==============================] - 0s 118us/step - loss: 0.5413 - accuracy: 0.7236\n",
      "Epoch 97/150\n",
      "767/767 [==============================] - 0s 116us/step - loss: 0.5343 - accuracy: 0.7262\n",
      "Epoch 98/150\n",
      "767/767 [==============================] - 0s 116us/step - loss: 0.5379 - accuracy: 0.7223\n",
      "Epoch 99/150\n",
      "767/767 [==============================] - 0s 116us/step - loss: 0.5411 - accuracy: 0.7158\n",
      "Epoch 100/150\n",
      "767/767 [==============================] - 0s 114us/step - loss: 0.5317 - accuracy: 0.7262\n",
      "Epoch 101/150\n",
      "767/767 [==============================] - 0s 114us/step - loss: 0.5342 - accuracy: 0.7379\n",
      "Epoch 102/150\n",
      "767/767 [==============================] - 0s 114us/step - loss: 0.5330 - accuracy: 0.7262\n",
      "Epoch 103/150\n",
      "767/767 [==============================] - 0s 114us/step - loss: 0.5350 - accuracy: 0.7223\n",
      "Epoch 104/150\n",
      "767/767 [==============================] - 0s 114us/step - loss: 0.5298 - accuracy: 0.7145\n",
      "Epoch 105/150\n",
      "767/767 [==============================] - 0s 116us/step - loss: 0.5302 - accuracy: 0.7249\n",
      "Epoch 106/150\n",
      "767/767 [==============================] - 0s 116us/step - loss: 0.5280 - accuracy: 0.7405\n",
      "Epoch 107/150\n",
      "767/767 [==============================] - 0s 117us/step - loss: 0.5310 - accuracy: 0.7236\n",
      "Epoch 108/150\n",
      "767/767 [==============================] - 0s 116us/step - loss: 0.5245 - accuracy: 0.7379\n",
      "Epoch 109/150\n",
      "767/767 [==============================] - 0s 114us/step - loss: 0.5264 - accuracy: 0.7445\n",
      "Epoch 110/150\n",
      "767/767 [==============================] - 0s 114us/step - loss: 0.5305 - accuracy: 0.72620s - loss: 0.5298 - accuracy: 0.71\n",
      "Epoch 111/150\n",
      "767/767 [==============================] - 0s 113us/step - loss: 0.5272 - accuracy: 0.7392\n",
      "Epoch 112/150\n",
      "767/767 [==============================] - ETA: 0s - loss: 0.5448 - accuracy: 0.76 - 0s 114us/step - loss: 0.5228 - accuracy: 0.7549\n",
      "Epoch 113/150\n",
      "767/767 [==============================] - 0s 112us/step - loss: 0.5266 - accuracy: 0.7405\n",
      "Epoch 114/150\n",
      "767/767 [==============================] - 0s 120us/step - loss: 0.5208 - accuracy: 0.7405\n",
      "Epoch 115/150\n",
      "767/767 [==============================] - 0s 114us/step - loss: 0.5117 - accuracy: 0.7484\n",
      "Epoch 116/150\n",
      "767/767 [==============================] - 0s 118us/step - loss: 0.5238 - accuracy: 0.7405\n",
      "Epoch 117/150\n",
      "767/767 [==============================] - 0s 114us/step - loss: 0.5154 - accuracy: 0.7510\n",
      "Epoch 118/150\n",
      "767/767 [==============================] - 0s 116us/step - loss: 0.5207 - accuracy: 0.7432\n",
      "Epoch 119/150\n",
      "767/767 [==============================] - 0s 116us/step - loss: 0.5136 - accuracy: 0.7549\n",
      "Epoch 120/150\n",
      "767/767 [==============================] - 0s 114us/step - loss: 0.5170 - accuracy: 0.7392\n",
      "Epoch 121/150\n",
      "767/767 [==============================] - 0s 116us/step - loss: 0.5231 - accuracy: 0.7379\n",
      "Epoch 122/150\n",
      "767/767 [==============================] - 0s 116us/step - loss: 0.5076 - accuracy: 0.7640\n",
      "Epoch 123/150\n",
      "767/767 [==============================] - 0s 114us/step - loss: 0.5039 - accuracy: 0.7405\n",
      "Epoch 124/150\n",
      "767/767 [==============================] - 0s 116us/step - loss: 0.4991 - accuracy: 0.7627\n",
      "Epoch 125/150\n",
      "767/767 [==============================] - 0s 113us/step - loss: 0.4996 - accuracy: 0.7640\n",
      "Epoch 126/150\n",
      "767/767 [==============================] - 0s 114us/step - loss: 0.4988 - accuracy: 0.7588\n",
      "Epoch 127/150\n",
      "767/767 [==============================] - 0s 114us/step - loss: 0.5061 - accuracy: 0.7536\n",
      "Epoch 128/150\n",
      "767/767 [==============================] - ETA: 0s - loss: 0.5292 - accuracy: 0.73 - 0s 114us/step - loss: 0.5078 - accuracy: 0.7562\n",
      "Epoch 129/150\n",
      "767/767 [==============================] - 0s 116us/step - loss: 0.5052 - accuracy: 0.7523\n",
      "Epoch 130/150\n",
      "767/767 [==============================] - 0s 113us/step - loss: 0.4944 - accuracy: 0.7627\n",
      "Epoch 131/150\n",
      "767/767 [==============================] - 0s 116us/step - loss: 0.4953 - accuracy: 0.7601\n",
      "Epoch 132/150\n",
      "767/767 [==============================] - 0s 121us/step - loss: 0.4958 - accuracy: 0.7562\n",
      "Epoch 133/150\n",
      "767/767 [==============================] - 0s 117us/step - loss: 0.4937 - accuracy: 0.7823\n",
      "Epoch 134/150\n",
      "767/767 [==============================] - 0s 124us/step - loss: 0.4931 - accuracy: 0.7562\n",
      "Epoch 135/150\n",
      "767/767 [==============================] - 0s 112us/step - loss: 0.4897 - accuracy: 0.7797\n",
      "Epoch 136/150\n",
      "767/767 [==============================] - 0s 114us/step - loss: 0.4858 - accuracy: 0.7588\n",
      "Epoch 137/150\n",
      "767/767 [==============================] - 0s 114us/step - loss: 0.4911 - accuracy: 0.7718\n",
      "Epoch 138/150\n",
      "767/767 [==============================] - 0s 113us/step - loss: 0.4990 - accuracy: 0.7419\n",
      "Epoch 139/150\n",
      "767/767 [==============================] - 0s 117us/step - loss: 0.4841 - accuracy: 0.7731\n",
      "Epoch 140/150\n",
      "767/767 [==============================] - ETA: 0s - loss: 0.4854 - accuracy: 0.77 - 0s 114us/step - loss: 0.4803 - accuracy: 0.7823\n",
      "Epoch 141/150\n",
      "767/767 [==============================] - 0s 118us/step - loss: 0.4809 - accuracy: 0.7731\n",
      "Epoch 142/150\n",
      "767/767 [==============================] - 0s 117us/step - loss: 0.4935 - accuracy: 0.7653\n",
      "Epoch 143/150\n",
      "767/767 [==============================] - 0s 117us/step - loss: 0.4788 - accuracy: 0.7810\n",
      "Epoch 144/150\n",
      "767/767 [==============================] - 0s 112us/step - loss: 0.4834 - accuracy: 0.7536\n",
      "Epoch 145/150\n",
      "767/767 [==============================] - 0s 116us/step - loss: 0.4829 - accuracy: 0.7718\n",
      "Epoch 146/150\n",
      "767/767 [==============================] - 0s 116us/step - loss: 0.4858 - accuracy: 0.7692\n",
      "Epoch 147/150\n",
      "767/767 [==============================] - 0s 114us/step - loss: 0.4806 - accuracy: 0.7653\n",
      "Epoch 148/150\n",
      "767/767 [==============================] - 0s 117us/step - loss: 0.4788 - accuracy: 0.7757\n",
      "Epoch 149/150\n",
      "767/767 [==============================] - 0s 117us/step - loss: 0.4760 - accuracy: 0.7640\n",
      "Epoch 150/150\n",
      "767/767 [==============================] - 0s 117us/step - loss: 0.4766 - accuracy: 0.7810\n"
     ]
    },
    {
     "data": {
      "text/plain": [
       "<keras.callbacks.callbacks.History at 0x20bd9375bc8>"
      ]
     },
     "execution_count": 7,
     "metadata": {},
     "output_type": "execute_result"
    }
   ],
   "source": [
    "# Fit the model\n",
    "model.fit(X,Y, nb_epoch = 150, batch_size = 10)"
   ]
  },
  {
   "cell_type": "markdown",
   "metadata": {},
   "source": [
    "- The training process will run for a ﬁxed number of iterations through the dataset called epochs, that we must specify using the nb epoch argument. We can also set the number of instances that are evaluated before a weight update in the network is performed called the batch size and set using the batch size argument. For this problem we will run for a small number of epochs (150) and use a relatively small batch size of 10. Again, these can be chosen experimentally by trial and error."
   ]
  },
  {
   "cell_type": "markdown",
   "metadata": {},
   "source": [
    "## Evaluate Model "
   ]
  },
  {
   "cell_type": "code",
   "execution_count": 8,
   "metadata": {},
   "outputs": [
    {
     "name": "stdout",
     "output_type": "stream",
     "text": [
      "767/767 [==============================] - 0s 49us/step\n",
      "accuracy: 77.71%\n"
     ]
    }
   ],
   "source": [
    "# evaluate model\n",
    "scores = model.evaluate(X,Y)\n",
    "print(\"%s: %.2f%%\" % (model.metrics_names[1], scores[1]*100))"
   ]
  },
  {
   "cell_type": "code",
   "execution_count": null,
   "metadata": {},
   "outputs": [],
   "source": []
  }
 ],
 "metadata": {
  "kernelspec": {
   "display_name": "Python 3",
   "language": "python",
   "name": "python3"
  },
  "language_info": {
   "codemirror_mode": {
    "name": "ipython",
    "version": 3
   },
   "file_extension": ".py",
   "mimetype": "text/x-python",
   "name": "python",
   "nbconvert_exporter": "python",
   "pygments_lexer": "ipython3",
   "version": "3.7.4"
  }
 },
 "nbformat": 4,
 "nbformat_minor": 2
}
