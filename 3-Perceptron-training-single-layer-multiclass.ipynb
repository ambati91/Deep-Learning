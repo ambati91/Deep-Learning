{
 "cells": [
  {
   "cell_type": "code",
   "execution_count": 1,
   "metadata": {},
   "outputs": [],
   "source": [
    "import tensorflow as tf\n",
    "import pandas as pd\n",
    "import numpy as np\n",
    "from matplotlib import pyplot as plt\n",
    "%matplotlib inline\n",
    "\n",
    "from sklearn.metrics import confusion_matrix\n",
    "from sklearn.metrics import accuracy_score\n",
    "from pandas import get_dummies\n",
    "\n",
    "from sklearn import datasets"
   ]
  },
  {
   "cell_type": "code",
   "execution_count": 4,
   "metadata": {},
   "outputs": [
    {
     "data": {
      "text/html": [
       "<div>\n",
       "<style scoped>\n",
       "    .dataframe tbody tr th:only-of-type {\n",
       "        vertical-align: middle;\n",
       "    }\n",
       "\n",
       "    .dataframe tbody tr th {\n",
       "        vertical-align: top;\n",
       "    }\n",
       "\n",
       "    .dataframe thead th {\n",
       "        text-align: right;\n",
       "    }\n",
       "</style>\n",
       "<table border=\"1\" class=\"dataframe\">\n",
       "  <thead>\n",
       "    <tr style=\"text-align: right;\">\n",
       "      <th></th>\n",
       "      <th>Sepal.Length</th>\n",
       "      <th>Sepal.Width</th>\n",
       "      <th>Petal.Length</th>\n",
       "      <th>Petal.Width</th>\n",
       "      <th>Species</th>\n",
       "    </tr>\n",
       "  </thead>\n",
       "  <tbody>\n",
       "    <tr>\n",
       "      <th>0</th>\n",
       "      <td>5.1</td>\n",
       "      <td>3.5</td>\n",
       "      <td>1.4</td>\n",
       "      <td>0.2</td>\n",
       "      <td>setosa</td>\n",
       "    </tr>\n",
       "    <tr>\n",
       "      <th>1</th>\n",
       "      <td>4.9</td>\n",
       "      <td>3.0</td>\n",
       "      <td>1.4</td>\n",
       "      <td>0.2</td>\n",
       "      <td>setosa</td>\n",
       "    </tr>\n",
       "    <tr>\n",
       "      <th>2</th>\n",
       "      <td>4.7</td>\n",
       "      <td>3.2</td>\n",
       "      <td>1.3</td>\n",
       "      <td>0.2</td>\n",
       "      <td>setosa</td>\n",
       "    </tr>\n",
       "    <tr>\n",
       "      <th>3</th>\n",
       "      <td>4.6</td>\n",
       "      <td>3.1</td>\n",
       "      <td>1.5</td>\n",
       "      <td>0.2</td>\n",
       "      <td>setosa</td>\n",
       "    </tr>\n",
       "    <tr>\n",
       "      <th>4</th>\n",
       "      <td>5.0</td>\n",
       "      <td>3.6</td>\n",
       "      <td>1.4</td>\n",
       "      <td>0.2</td>\n",
       "      <td>setosa</td>\n",
       "    </tr>\n",
       "  </tbody>\n",
       "</table>\n",
       "</div>"
      ],
      "text/plain": [
       "   Sepal.Length  Sepal.Width  Petal.Length  Petal.Width Species\n",
       "0           5.1          3.5           1.4          0.2  setosa\n",
       "1           4.9          3.0           1.4          0.2  setosa\n",
       "2           4.7          3.2           1.3          0.2  setosa\n",
       "3           4.6          3.1           1.5          0.2  setosa\n",
       "4           5.0          3.6           1.4          0.2  setosa"
      ]
     },
     "execution_count": 4,
     "metadata": {},
     "output_type": "execute_result"
    }
   ],
   "source": [
    "data = pd.read_csv('Iris_dataset.csv')\n",
    "data.head()"
   ]
  },
  {
   "cell_type": "code",
   "execution_count": 6,
   "metadata": {},
   "outputs": [],
   "source": [
    "X_input = data.drop(labels = 'Species', axis = 1)\n",
    "# Y_label = data[['species']]\n",
    "\n",
    "Y_label = data.iloc[:,4]\n",
    "#Y_label = data.iloc[:,60]"
   ]
  },
  {
   "cell_type": "code",
   "execution_count": 8,
   "metadata": {},
   "outputs": [
    {
     "data": {
      "text/html": [
       "<div>\n",
       "<style scoped>\n",
       "    .dataframe tbody tr th:only-of-type {\n",
       "        vertical-align: middle;\n",
       "    }\n",
       "\n",
       "    .dataframe tbody tr th {\n",
       "        vertical-align: top;\n",
       "    }\n",
       "\n",
       "    .dataframe thead th {\n",
       "        text-align: right;\n",
       "    }\n",
       "</style>\n",
       "<table border=\"1\" class=\"dataframe\">\n",
       "  <thead>\n",
       "    <tr style=\"text-align: right;\">\n",
       "      <th></th>\n",
       "      <th>Sepal.Length</th>\n",
       "      <th>Sepal.Width</th>\n",
       "      <th>Petal.Length</th>\n",
       "      <th>Petal.Width</th>\n",
       "    </tr>\n",
       "  </thead>\n",
       "  <tbody>\n",
       "    <tr>\n",
       "      <th>0</th>\n",
       "      <td>5.1</td>\n",
       "      <td>3.5</td>\n",
       "      <td>1.4</td>\n",
       "      <td>0.2</td>\n",
       "    </tr>\n",
       "    <tr>\n",
       "      <th>1</th>\n",
       "      <td>4.9</td>\n",
       "      <td>3.0</td>\n",
       "      <td>1.4</td>\n",
       "      <td>0.2</td>\n",
       "    </tr>\n",
       "    <tr>\n",
       "      <th>2</th>\n",
       "      <td>4.7</td>\n",
       "      <td>3.2</td>\n",
       "      <td>1.3</td>\n",
       "      <td>0.2</td>\n",
       "    </tr>\n",
       "    <tr>\n",
       "      <th>3</th>\n",
       "      <td>4.6</td>\n",
       "      <td>3.1</td>\n",
       "      <td>1.5</td>\n",
       "      <td>0.2</td>\n",
       "    </tr>\n",
       "    <tr>\n",
       "      <th>4</th>\n",
       "      <td>5.0</td>\n",
       "      <td>3.6</td>\n",
       "      <td>1.4</td>\n",
       "      <td>0.2</td>\n",
       "    </tr>\n",
       "  </tbody>\n",
       "</table>\n",
       "</div>"
      ],
      "text/plain": [
       "   Sepal.Length  Sepal.Width  Petal.Length  Petal.Width\n",
       "0           5.1          3.5           1.4          0.2\n",
       "1           4.9          3.0           1.4          0.2\n",
       "2           4.7          3.2           1.3          0.2\n",
       "3           4.6          3.1           1.5          0.2\n",
       "4           5.0          3.6           1.4          0.2"
      ]
     },
     "execution_count": 8,
     "metadata": {},
     "output_type": "execute_result"
    }
   ],
   "source": [
    "X_input.head()"
   ]
  },
  {
   "cell_type": "code",
   "execution_count": 9,
   "metadata": {},
   "outputs": [
    {
     "data": {
      "text/plain": [
       "0    setosa\n",
       "1    setosa\n",
       "2    setosa\n",
       "3    setosa\n",
       "4    setosa\n",
       "Name: Species, dtype: object"
      ]
     },
     "execution_count": 9,
     "metadata": {},
     "output_type": "execute_result"
    }
   ],
   "source": [
    "Y_label.head()"
   ]
  },
  {
   "cell_type": "code",
   "execution_count": 34,
   "metadata": {},
   "outputs": [],
   "source": [
    "from sklearn.preprocessing import LabelEncoder"
   ]
  },
  {
   "cell_type": "code",
   "execution_count": 46,
   "metadata": {},
   "outputs": [
    {
     "data": {
      "text/plain": [
       "array([0, 0, 0, 0, 0, 0, 0, 0, 0, 0, 0, 0, 0, 0, 0, 0, 0, 0, 0, 0, 0, 0,\n",
       "       0, 0, 0, 0, 0, 0, 0, 0, 0, 0, 0, 0, 0, 0, 0, 0, 0, 0, 0, 0, 0, 0,\n",
       "       0, 0, 0, 0, 0, 0, 1, 1, 1, 1, 1, 1, 1, 1, 1, 1, 1, 1, 1, 1, 1, 1,\n",
       "       1, 1, 1, 1, 1, 1, 1, 1, 1, 1, 1, 1, 1, 1, 1, 1, 1, 1, 1, 1, 1, 1,\n",
       "       1, 1, 1, 1, 1, 1, 1, 1, 1, 1, 1, 1, 2, 2, 2, 2, 2, 2, 2, 2, 2, 2,\n",
       "       2, 2, 2, 2, 2, 2, 2, 2, 2, 2, 2, 2, 2, 2, 2, 2, 2, 2, 2, 2, 2, 2,\n",
       "       2, 2, 2, 2, 2, 2, 2, 2, 2, 2, 2, 2, 2, 2, 2, 2, 2, 2])"
      ]
     },
     "execution_count": 46,
     "metadata": {},
     "output_type": "execute_result"
    }
   ],
   "source": [
    "LE= LabelEncoder()\n",
    "y_encode = LE.fit_transform(data['Species'])\n",
    "y_encode"
   ]
  },
  {
   "cell_type": "code",
   "execution_count": 40,
   "metadata": {},
   "outputs": [
    {
     "data": {
      "text/html": [
       "<div>\n",
       "<style scoped>\n",
       "    .dataframe tbody tr th:only-of-type {\n",
       "        vertical-align: middle;\n",
       "    }\n",
       "\n",
       "    .dataframe tbody tr th {\n",
       "        vertical-align: top;\n",
       "    }\n",
       "\n",
       "    .dataframe thead th {\n",
       "        text-align: right;\n",
       "    }\n",
       "</style>\n",
       "<table border=\"1\" class=\"dataframe\">\n",
       "  <thead>\n",
       "    <tr style=\"text-align: right;\">\n",
       "      <th></th>\n",
       "      <th>0</th>\n",
       "      <th>1</th>\n",
       "      <th>2</th>\n",
       "    </tr>\n",
       "  </thead>\n",
       "  <tbody>\n",
       "    <tr>\n",
       "      <th>0</th>\n",
       "      <td>1</td>\n",
       "      <td>0</td>\n",
       "      <td>0</td>\n",
       "    </tr>\n",
       "    <tr>\n",
       "      <th>1</th>\n",
       "      <td>1</td>\n",
       "      <td>0</td>\n",
       "      <td>0</td>\n",
       "    </tr>\n",
       "    <tr>\n",
       "      <th>2</th>\n",
       "      <td>1</td>\n",
       "      <td>0</td>\n",
       "      <td>0</td>\n",
       "    </tr>\n",
       "    <tr>\n",
       "      <th>3</th>\n",
       "      <td>1</td>\n",
       "      <td>0</td>\n",
       "      <td>0</td>\n",
       "    </tr>\n",
       "    <tr>\n",
       "      <th>4</th>\n",
       "      <td>1</td>\n",
       "      <td>0</td>\n",
       "      <td>0</td>\n",
       "    </tr>\n",
       "  </tbody>\n",
       "</table>\n",
       "</div>"
      ],
      "text/plain": [
       "   0  1  2\n",
       "0  1  0  0\n",
       "1  1  0  0\n",
       "2  1  0  0\n",
       "3  1  0  0\n",
       "4  1  0  0"
      ]
     },
     "execution_count": 40,
     "metadata": {},
     "output_type": "execute_result"
    }
   ],
   "source": [
    "y_hot = pd.get_dummies(y_encode)\n",
    "y_hot.head()"
   ]
  },
  {
   "cell_type": "code",
   "execution_count": 42,
   "metadata": {},
   "outputs": [],
   "source": [
    "y_hot = y_hot.values"
   ]
  },
  {
   "cell_type": "code",
   "execution_count": 44,
   "metadata": {},
   "outputs": [],
   "source": [
    "#y_hot"
   ]
  },
  {
   "cell_type": "code",
   "execution_count": 14,
   "metadata": {},
   "outputs": [],
   "source": [
    "# definining the perceptron\n",
    "\n",
    "# define place holder for features and labels\n",
    "x = tf.placeholder(tf.float32,[None,4]) # None becacuse we dont know the rows in dataset, and 4 is number of features or columns\n",
    "\n",
    "y = tf.placeholder(tf.float32,[None,3]) # 3 is number of labels i.e in target variable(y)"
   ]
  },
  {
   "cell_type": "code",
   "execution_count": 15,
   "metadata": {},
   "outputs": [],
   "source": [
    "# weights and bias\n",
    "\n",
    "weight = tf.Variable(tf.truncated_normal([4,3], stddev = 0.1)) # initially taking weights as 'zeros', can be given random numbers,\n",
    "                                                               #  4 is number of features, 3 is number of neurons\n",
    "                                                               # stddev = 0.1 takes random values at 0.1 instead of infinity values\n",
    "                                    \n",
    "\n",
    "bias = tf.Variable(tf.truncated_normal([3],stddev = 0.1)) # here 3 neurans in this case\n",
    "\n",
    "# input function\n",
    "\n",
    "I = tf.add(tf.matmul(x,weight),bias)  # matmul = w1.x1 + w2.x2 + wn.xn....\n",
    "                                      # bias = 1.w0\n",
    "\n",
    "# activation function\n",
    "output = tf.nn.softmax(I)"
   ]
  },
  {
   "cell_type": "code",
   "execution_count": null,
   "metadata": {},
   "outputs": [],
   "source": []
  },
  {
   "cell_type": "code",
   "execution_count": 22,
   "metadata": {},
   "outputs": [],
   "source": [
    "# this session is for creating the perception"
   ]
  },
  {
   "cell_type": "code",
   "execution_count": 16,
   "metadata": {},
   "outputs": [],
   "source": [
    "# define the cost/loss functions and the optimizer\n",
    "\n",
    "individual_loss = tf.nn.softmax_cross_entropy_with_logits_v2(labels = y, logits = output)\n",
    "loss = tf.reduce_mean(individual_loss)\n",
    "\n",
    "gdo = tf.train.GradientDescentOptimizer(learning_rate = 0.01)\n",
    "train = gdo.minimize(loss)"
   ]
  },
  {
   "cell_type": "code",
   "execution_count": 17,
   "metadata": {},
   "outputs": [],
   "source": [
    "# individualize the variables\n",
    "\n",
    "init = tf.global_variables_initializer()"
   ]
  },
  {
   "cell_type": "code",
   "execution_count": 18,
   "metadata": {},
   "outputs": [],
   "source": [
    "sess = tf.Session()\n",
    "sess.run(init)\n",
    "# sess.run(train) # once we feed the data we can "
   ]
  },
  {
   "cell_type": "code",
   "execution_count": 19,
   "metadata": {},
   "outputs": [],
   "source": [
    "for i in range(500000): # initially start with 100 check the accuracy and increase the value later to 500 you will get good accuracy\n",
    "    final_train = sess.run(train,feed_dict={x:X_input,y:y_hot})"
   ]
  },
  {
   "cell_type": "code",
   "execution_count": 20,
   "metadata": {},
   "outputs": [
    {
     "data": {
      "text/plain": [
       "array([[ 2.4831932,  1.6339262, -4.06859  ],\n",
       "       [ 4.949261 ,  0.5031688, -5.3454742],\n",
       "       [-6.6689143, -1.2850801,  7.933834 ],\n",
       "       [-3.4213362, -3.5841587,  6.88394  ]], dtype=float32)"
      ]
     },
     "execution_count": 20,
     "metadata": {},
     "output_type": "execute_result"
    }
   ],
   "source": [
    "sess.run(weight)"
   ]
  },
  {
   "cell_type": "code",
   "execution_count": 21,
   "metadata": {},
   "outputs": [
    {
     "data": {
      "text/plain": [
       "array([ 1.0761995,  4.4568934, -5.6383743], dtype=float32)"
      ]
     },
     "execution_count": 21,
     "metadata": {},
     "output_type": "execute_result"
    }
   ],
   "source": [
    "sess.run(bias)"
   ]
  },
  {
   "cell_type": "code",
   "execution_count": 22,
   "metadata": {},
   "outputs": [],
   "source": [
    "predict = sess.run(output,feed_dict = {x:X_input})"
   ]
  },
  {
   "cell_type": "code",
   "execution_count": 23,
   "metadata": {
    "collapsed": true
   },
   "outputs": [
    {
     "data": {
      "text/plain": [
       "array([[9.99877453e-01, 1.22523066e-04, 4.98571886e-24],\n",
       "       [9.98660564e-01, 1.33940286e-03, 3.17507119e-21],\n",
       "       [9.99618769e-01, 3.81149788e-04, 3.49037099e-22],\n",
       "       [9.98103023e-01, 1.89690548e-03, 3.48520176e-20],\n",
       "       [9.99914527e-01, 8.55119579e-05, 3.42917717e-24],\n",
       "       [9.99921918e-01, 7.80784903e-05, 7.13546698e-24],\n",
       "       [9.99712527e-01, 2.87462957e-04, 1.03515282e-21],\n",
       "       [9.99643564e-01, 3.56375560e-04, 1.15731360e-22],\n",
       "       [9.96811330e-01, 3.18870856e-03, 2.34825590e-19],\n",
       "       [9.98504996e-01, 1.49500242e-03, 1.74271930e-21],\n",
       "       [9.99933124e-01, 6.68691937e-05, 3.83822246e-25],\n",
       "       [9.99276698e-01, 7.23321515e-04, 1.84739986e-21],\n",
       "       [9.98518169e-01, 1.48184947e-03, 2.18111553e-21],\n",
       "       [9.99548972e-01, 4.51043335e-04, 7.23204959e-22],\n",
       "       [9.99997497e-01, 2.49457889e-06, 1.59274030e-29],\n",
       "       [9.99997735e-01, 2.23265738e-06, 3.13313846e-28],\n",
       "       [9.99990940e-01, 9.06343121e-06, 2.07345079e-26],\n",
       "       [9.99879479e-01, 1.20544770e-04, 1.39727982e-23],\n",
       "       [9.99904037e-01, 9.59483950e-05, 9.98473870e-25],\n",
       "       [9.99945641e-01, 5.44152681e-05, 2.74294313e-24],\n",
       "       [9.99255478e-01, 7.44460151e-04, 1.56135200e-22],\n",
       "       [9.99916434e-01, 8.35075843e-05, 2.15203685e-23],\n",
       "       [9.99986053e-01, 1.39419080e-05, 1.36969833e-25],\n",
       "       [9.98574138e-01, 1.42584299e-03, 6.86402098e-20],\n",
       "       [9.96373236e-01, 3.62676173e-03, 1.47185597e-19],\n",
       "       [9.96396959e-01, 3.60310846e-03, 3.05215849e-20],\n",
       "       [9.99409199e-01, 5.90854557e-04, 3.91421058e-21],\n",
       "       [9.99807179e-01, 1.92806096e-04, 1.11518655e-23],\n",
       "       [9.99824464e-01, 1.75551293e-04, 7.24870402e-24],\n",
       "       [9.98086333e-01, 1.91372843e-03, 2.78466799e-20],\n",
       "       [9.97260094e-01, 2.73986137e-03, 4.04545829e-20],\n",
       "       [9.99754369e-01, 2.45629752e-04, 6.61369876e-23],\n",
       "       [9.99986410e-01, 1.36057861e-05, 8.26619532e-27],\n",
       "       [9.99996066e-01, 3.88237777e-06, 2.69126200e-28],\n",
       "       [9.98529077e-01, 1.47089048e-03, 4.88417194e-21],\n",
       "       [9.99827504e-01, 1.72472515e-04, 1.13541018e-23],\n",
       "       [9.99949098e-01, 5.09213351e-05, 8.42185006e-26],\n",
       "       [9.99905348e-01, 9.46187574e-05, 2.35599719e-24],\n",
       "       [9.98804450e-01, 1.19556673e-03, 1.95131923e-20],\n",
       "       [9.99672651e-01, 3.27369518e-04, 6.01070042e-23],\n",
       "       [9.99923348e-01, 7.66007070e-05, 6.24672169e-24],\n",
       "       [9.76267278e-01, 2.37326957e-02, 3.74189708e-17],\n",
       "       [9.99508262e-01, 4.91696526e-04, 2.49140459e-21],\n",
       "       [9.99633312e-01, 3.66728345e-04, 1.09837808e-20],\n",
       "       [9.99539018e-01, 4.61041025e-04, 2.64454044e-21],\n",
       "       [9.98565614e-01, 1.43444235e-03, 1.71318314e-20],\n",
       "       [9.99905229e-01, 9.47525696e-05, 4.21537922e-24],\n",
       "       [9.99289274e-01, 7.10644934e-04, 2.89372638e-21],\n",
       "       [9.99927163e-01, 7.27959996e-05, 7.39039704e-25],\n",
       "       [9.99675512e-01, 3.24485969e-04, 7.52263944e-23],\n",
       "       [2.52355938e-04, 9.99726117e-01, 2.15619275e-05],\n",
       "       [4.52075998e-04, 9.99250591e-01, 2.97374616e-04],\n",
       "       [5.14086823e-05, 9.98717546e-01, 1.23106048e-03],\n",
       "       [5.43907263e-05, 9.88134742e-01, 1.18108187e-02],\n",
       "       [4.83410331e-05, 9.95582163e-01, 4.36953781e-03],\n",
       "       [3.99918390e-05, 9.79770839e-01, 2.01892331e-02],\n",
       "       [2.23253650e-04, 9.94525433e-01, 5.25130192e-03],\n",
       "       [2.12361990e-03, 9.97862518e-01, 1.38674495e-05],\n",
       "       [7.97924804e-05, 9.99749839e-01, 1.70349493e-04],\n",
       "       [4.36513685e-04, 9.92396057e-01, 7.16737006e-03],\n",
       "       [1.33231850e-04, 9.99351919e-01, 5.14926796e-04],\n",
       "       [6.10480900e-04, 9.98346925e-01, 1.04252249e-03],\n",
       "       [5.13776358e-05, 9.99894977e-01, 5.36124680e-05],\n",
       "       [3.03261932e-05, 9.79285300e-01, 2.06842702e-02],\n",
       "       [7.38223456e-03, 9.92612720e-01, 5.02431067e-06],\n",
       "       [6.30320865e-04, 9.99356210e-01, 1.34705697e-05],\n",
       "       [8.63186724e-05, 9.15830612e-01, 8.40830654e-02],\n",
       "       [2.33658633e-04, 9.99743640e-01, 2.26395732e-05],\n",
       "       [3.38338577e-06, 7.55950630e-01, 2.44045943e-01],\n",
       "       [2.41712638e-04, 9.99655485e-01, 1.02809114e-04],\n",
       "       [2.13642397e-05, 3.45783174e-01, 6.54195428e-01],\n",
       "       [8.45450093e-04, 9.99133646e-01, 2.09473292e-05],\n",
       "       [9.49288392e-07, 4.42233801e-01, 5.57765305e-01],\n",
       "       [1.91267936e-05, 9.95330870e-01, 4.65001957e-03],\n",
       "       [3.38526617e-04, 9.99627948e-01, 3.35340847e-05],\n",
       "       [3.71267437e-04, 9.99585927e-01, 4.27706545e-05],\n",
       "       [2.09608788e-05, 9.98222172e-01, 1.75685086e-03],\n",
       "       [1.47129967e-05, 8.76272738e-01, 1.23712569e-01],\n",
       "       [8.34532111e-05, 9.83359575e-01, 1.65569577e-02],\n",
       "       [3.46825481e-03, 9.96531546e-01, 2.83726081e-07],\n",
       "       [2.43853516e-04, 9.99626398e-01, 1.29809239e-04],\n",
       "       [4.11008397e-04, 9.99570906e-01, 1.81253399e-05],\n",
       "       [7.08189153e-04, 9.99262750e-01, 2.90511507e-05],\n",
       "       [3.50421807e-08, 2.49961838e-02, 9.75003779e-01],\n",
       "       [6.17796613e-05, 7.76822627e-01, 2.23115519e-01],\n",
       "       [7.93955405e-04, 9.96639013e-01, 2.56692758e-03],\n",
       "       [1.27391977e-04, 9.99262989e-01, 6.09656912e-04],\n",
       "       [1.25412625e-05, 9.95026886e-01, 4.96057048e-03],\n",
       "       [7.85146607e-04, 9.98931944e-01, 2.82938243e-04],\n",
       "       [1.33421039e-04, 9.96169984e-01, 3.69649869e-03],\n",
       "       [2.31856684e-05, 9.71799672e-01, 2.81771459e-02],\n",
       "       [8.23670562e-05, 9.95258629e-01, 4.65899240e-03],\n",
       "       [2.65087088e-04, 9.99603808e-01, 1.31125416e-04],\n",
       "       [1.48302014e-03, 9.98502970e-01, 1.40806033e-05],\n",
       "       [1.20361605e-04, 9.95780468e-01, 4.09922190e-03],\n",
       "       [4.91061306e-04, 9.99367654e-01, 1.41245037e-04],\n",
       "       [3.19843501e-04, 9.98958349e-01, 7.21807824e-04],\n",
       "       [2.85639660e-04, 9.99609530e-01, 1.04904328e-04],\n",
       "       [1.97123643e-02, 9.80287135e-01, 4.34979796e-07],\n",
       "       [3.51348921e-04, 9.99133289e-01, 5.15381980e-04],\n",
       "       [2.27037000e-14, 9.56960733e-08, 9.99999881e-01],\n",
       "       [4.40245146e-10, 3.54428921e-04, 9.99645591e-01],\n",
       "       [5.19302830e-11, 2.62357877e-04, 9.99737680e-01],\n",
       "       [1.72624220e-10, 5.60394430e-04, 9.99439538e-01],\n",
       "       [1.56648034e-12, 7.56500322e-06, 9.99992490e-01],\n",
       "       [4.99930873e-14, 7.15625174e-06, 9.99992847e-01],\n",
       "       [7.73494246e-09, 1.32942770e-03, 9.98670578e-01],\n",
       "       [4.39851150e-12, 2.64597853e-04, 9.99735415e-01],\n",
       "       [2.08310170e-12, 8.36698746e-05, 9.99916315e-01],\n",
       "       [4.20764847e-11, 3.72760369e-05, 9.99962687e-01],\n",
       "       [2.35613334e-06, 1.11512825e-01, 8.88484836e-01],\n",
       "       [1.20771260e-09, 1.71448640e-03, 9.98285472e-01],\n",
       "       [2.49948506e-09, 1.89105922e-03, 9.98108983e-01],\n",
       "       [4.48466715e-11, 5.49215729e-05, 9.99945045e-01],\n",
       "       [7.13147206e-12, 3.39286021e-06, 9.99996662e-01],\n",
       "       [3.37102724e-09, 4.85501136e-04, 9.99514461e-01],\n",
       "       [7.66096075e-09, 7.85238855e-03, 9.92147624e-01],\n",
       "       [3.00874499e-11, 1.90236038e-04, 9.99809802e-01],\n",
       "       [2.49688811e-18, 9.46163325e-09, 1.00000000e+00],\n",
       "       [2.49799603e-09, 9.76304989e-03, 9.90236938e-01],\n",
       "       [2.59315930e-10, 2.10430109e-04, 9.99789536e-01],\n",
       "       [2.20034524e-09, 4.51123749e-04, 9.99548852e-01],\n",
       "       [7.99142043e-15, 4.45233809e-06, 9.99995589e-01],\n",
       "       [5.45711828e-07, 9.94992331e-02, 9.00500238e-01],\n",
       "       [1.53678359e-09, 9.78834927e-04, 9.99021173e-01],\n",
       "       [3.95188637e-09, 1.35594327e-02, 9.86440599e-01],\n",
       "       [2.96056373e-06, 2.19890773e-01, 7.80106306e-01],\n",
       "       [2.97842189e-06, 1.69564679e-01, 8.30432355e-01],\n",
       "       [5.39662802e-12, 2.39061301e-05, 9.99976039e-01],\n",
       "       [6.11044868e-08, 1.79557309e-01, 8.20442617e-01],\n",
       "       [2.00190437e-11, 5.78395964e-04, 9.99421597e-01],\n",
       "       [6.50288854e-08, 7.12754428e-02, 9.28724468e-01],\n",
       "       [1.92564129e-12, 8.39249969e-06, 9.99991655e-01],\n",
       "       [1.16683623e-06, 4.20361459e-01, 5.79637349e-01],\n",
       "       [1.30708541e-10, 2.03714124e-03, 9.97962832e-01],\n",
       "       [1.81646330e-11, 1.56635768e-04, 9.99843359e-01],\n",
       "       [6.13047391e-11, 1.95434714e-05, 9.99980450e-01],\n",
       "       [1.11375247e-08, 7.96706602e-03, 9.92032945e-01],\n",
       "       [6.21813069e-06, 2.24944487e-01, 7.75049269e-01],\n",
       "       [5.72768499e-08, 1.48950526e-02, 9.85104978e-01],\n",
       "       [3.84029787e-11, 3.30836992e-05, 9.99966860e-01],\n",
       "       [5.74496596e-07, 2.87578776e-02, 9.71241474e-01],\n",
       "       [4.40245146e-10, 3.54428921e-04, 9.99645591e-01],\n",
       "       [7.26092754e-12, 1.88273279e-05, 9.99981165e-01],\n",
       "       [2.49356629e-11, 1.48810368e-05, 9.99985099e-01],\n",
       "       [1.32034303e-08, 2.09328928e-03, 9.97906685e-01],\n",
       "       [6.37489705e-09, 4.76714596e-03, 9.95232880e-01],\n",
       "       [7.73558000e-08, 1.52621744e-02, 9.84737813e-01],\n",
       "       [1.65502678e-09, 1.98899783e-04, 9.99801099e-01],\n",
       "       [5.16133838e-08, 1.02214254e-02, 9.89778578e-01]], dtype=float32)"
      ]
     },
     "execution_count": 23,
     "metadata": {},
     "output_type": "execute_result"
    }
   ],
   "source": [
    "predict"
   ]
  },
  {
   "cell_type": "code",
   "execution_count": 24,
   "metadata": {},
   "outputs": [],
   "source": [
    "result = sess.run(tf.argmax(predict,1))"
   ]
  },
  {
   "cell_type": "code",
   "execution_count": 25,
   "metadata": {},
   "outputs": [
    {
     "data": {
      "text/plain": [
       "array([0, 0, 0, 0, 0, 0, 0, 0, 0, 0, 0, 0, 0, 0, 0, 0, 0, 0, 0, 0, 0, 0,\n",
       "       0, 0, 0, 0, 0, 0, 0, 0, 0, 0, 0, 0, 0, 0, 0, 0, 0, 0, 0, 0, 0, 0,\n",
       "       0, 0, 0, 0, 0, 0, 1, 1, 1, 1, 1, 1, 1, 1, 1, 1, 1, 1, 1, 1, 1, 1,\n",
       "       1, 1, 1, 1, 2, 1, 2, 1, 1, 1, 1, 1, 1, 1, 1, 1, 1, 2, 1, 1, 1, 1,\n",
       "       1, 1, 1, 1, 1, 1, 1, 1, 1, 1, 1, 1, 2, 2, 2, 2, 2, 2, 2, 2, 2, 2,\n",
       "       2, 2, 2, 2, 2, 2, 2, 2, 2, 2, 2, 2, 2, 2, 2, 2, 2, 2, 2, 2, 2, 2,\n",
       "       2, 2, 2, 2, 2, 2, 2, 2, 2, 2, 2, 2, 2, 2, 2, 2, 2, 2], dtype=int64)"
      ]
     },
     "execution_count": 25,
     "metadata": {},
     "output_type": "execute_result"
    }
   ],
   "source": [
    "result"
   ]
  },
  {
   "cell_type": "code",
   "execution_count": 47,
   "metadata": {},
   "outputs": [
    {
     "data": {
      "text/plain": [
       "0.98"
      ]
     },
     "execution_count": 47,
     "metadata": {},
     "output_type": "execute_result"
    }
   ],
   "source": [
    "accuracy_score(result,y_encode)"
   ]
  },
  {
   "cell_type": "code",
   "execution_count": 48,
   "metadata": {},
   "outputs": [
    {
     "data": {
      "text/plain": [
       "array([[50,  0,  0],\n",
       "       [ 0, 47,  0],\n",
       "       [ 0,  3, 50]], dtype=int64)"
      ]
     },
     "execution_count": 48,
     "metadata": {},
     "output_type": "execute_result"
    }
   ],
   "source": [
    "confusion_matrix(result,y_encode)"
   ]
  },
  {
   "cell_type": "code",
   "execution_count": null,
   "metadata": {},
   "outputs": [],
   "source": []
  }
 ],
 "metadata": {
  "kernelspec": {
   "display_name": "Python 3",
   "language": "python",
   "name": "python3"
  },
  "language_info": {
   "codemirror_mode": {
    "name": "ipython",
    "version": 3
   },
   "file_extension": ".py",
   "mimetype": "text/x-python",
   "name": "python",
   "nbconvert_exporter": "python",
   "pygments_lexer": "ipython3",
   "version": "3.7.4"
  }
 },
 "nbformat": 4,
 "nbformat_minor": 2
}
