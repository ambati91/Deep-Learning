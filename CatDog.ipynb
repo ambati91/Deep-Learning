{
 "cells": [
  {
   "cell_type": "markdown",
   "metadata": {},
   "source": [
    "## Classification demo including training"
   ]
  },
  {
   "cell_type": "code",
   "execution_count": 73,
   "metadata": {},
   "outputs": [],
   "source": [
    "##Import libraries\n",
    "from keras.models import Sequential\n",
    "from keras.layers import Conv2D\n",
    "from keras.layers import MaxPooling2D\n",
    "from keras.layers import Flatten\n",
    "from keras.layers import Dense"
   ]
  },
  {
   "cell_type": "code",
   "execution_count": 74,
   "metadata": {},
   "outputs": [],
   "source": [
    "## Initialising the CNN\n",
    "classifier = Sequential()"
   ]
  },
  {
   "cell_type": "code",
   "execution_count": 75,
   "metadata": {},
   "outputs": [],
   "source": [
    "## Convolution(64 feature detector of dimension 3 by 3), input shape 3 layer for color image)\n",
    "classifier.add(Conv2D(64,(3,3),input_shape = (64,64,3), activation = 'relu'))\n",
    "## MaxPooling\n",
    "classifier.add(MaxPooling2D(pool_size = (2,2)))\n",
    "\n",
    "## Add another layer\n",
    "classifier.add(Conv2D(64,(3,3), activation = 'relu'))\n",
    "classifier.add(MaxPooling2D(pool_size = (2,2)))\n",
    "\n",
    "\n",
    "## Add another layer\n",
    "classifier.add(Conv2D(64,(3,3), activation = 'relu'))\n",
    "classifier.add(MaxPooling2D(pool_size = (2,2)))\n"
   ]
  },
  {
   "cell_type": "code",
   "execution_count": 76,
   "metadata": {},
   "outputs": [],
   "source": [
    "## Flattening\n",
    "classifier.add(Flatten())"
   ]
  },
  {
   "cell_type": "code",
   "execution_count": 77,
   "metadata": {},
   "outputs": [],
   "source": [
    "## Fully connected ANN, Hidden ANN and output layer\n",
    "classifier.add(Dense(units = 128, activation = 'relu'))\n",
    "\n",
    "classifier.add(Dense(units = 128, activation = 'relu'))\n",
    "\n",
    "classifier.add(Dense(units = 128, activation = 'relu'))\n"
   ]
  },
  {
   "cell_type": "code",
   "execution_count": 78,
   "metadata": {},
   "outputs": [],
   "source": [
    "#output layer\n",
    "classifier.add(Dense(units = 1, activation = 'sigmoid'))"
   ]
  },
  {
   "cell_type": "code",
   "execution_count": 79,
   "metadata": {},
   "outputs": [],
   "source": [
    "## Compliling\n",
    "classifier.compile(optimizer = 'adam', loss = 'binary_crossentropy', metrics = ['accuracy'])"
   ]
  },
  {
   "cell_type": "code",
   "execution_count": 80,
   "metadata": {},
   "outputs": [],
   "source": [
    "## data importing and transforming and scaling\n",
    "from keras.preprocessing.image import ImageDataGenerator\n",
    "train_datagen = ImageDataGenerator(\n",
    "        rescale=1./255, \n",
    "        shear_range=0.2, # image will be distorted (let say 100 images, it will do 100 with original, another 100 with shear)\n",
    "        zoom_range=0.2, # each image slightly modify (zooms 20 percent in this case)\n",
    "        horizontal_flip=True) # flipping the image in diffrent directions "
   ]
  },
  {
   "cell_type": "code",
   "execution_count": 81,
   "metadata": {},
   "outputs": [],
   "source": [
    "## Scaling test data\n",
    "##no  data augmentation\n",
    "test_datagen = ImageDataGenerator(rescale=1./255)"
   ]
  },
  {
   "cell_type": "code",
   "execution_count": 82,
   "metadata": {},
   "outputs": [
    {
     "name": "stdout",
     "output_type": "stream",
     "text": [
      "Found 98 images belonging to 2 classes.\n"
     ]
    }
   ],
   "source": [
    "## Importing training data\n",
    "train_set = train_datagen.flow_from_directory('D:\\\\Term_3\\\\AI\\\\DAY_5\\\\2-keras-cnn-catdog\\\\dataset\\\\training_set',\n",
    "                                               target_size=(64, 64),\n",
    "                                               batch_size=6, # it takes 6 samples from dataset, like wise it cover all the data\n",
    "                                                             # \n",
    "                                               class_mode='binary')"
   ]
  },
  {
   "cell_type": "code",
   "execution_count": 83,
   "metadata": {},
   "outputs": [
    {
     "data": {
      "text/plain": [
       "{'cats': 0, 'dogs': 1}"
      ]
     },
     "execution_count": 83,
     "metadata": {},
     "output_type": "execute_result"
    }
   ],
   "source": [
    "train_set.class_indices"
   ]
  },
  {
   "cell_type": "code",
   "execution_count": 84,
   "metadata": {},
   "outputs": [
    {
     "name": "stdout",
     "output_type": "stream",
     "text": [
      "{'cats': 0, 'dogs': 1}\n"
     ]
    }
   ],
   "source": [
    "#which is cat which is dog?\n",
    "label_map = (train_set.class_indices)\n",
    "print(label_map)"
   ]
  },
  {
   "cell_type": "code",
   "execution_count": 85,
   "metadata": {},
   "outputs": [
    {
     "name": "stdout",
     "output_type": "stream",
     "text": [
      "Found 38 images belonging to 2 classes.\n"
     ]
    }
   ],
   "source": [
    "## Importng test data\n",
    "test_set = test_datagen.flow_from_directory('D:\\\\Term_3\\\\AI\\DAY_5\\\\2-keras-cnn-catdog\\\\dataset\\\\test_set',\n",
    "                                            target_size=(64, 64),\n",
    "                                            batch_size=6,\n",
    "                                            class_mode='binary')"
   ]
  },
  {
   "cell_type": "code",
   "execution_count": 87,
   "metadata": {
    "collapsed": true
   },
   "outputs": [
    {
     "name": "stdout",
     "output_type": "stream",
     "text": [
      "Epoch 1/35\n",
      "50/50 [==============================] - 5s 94ms/step - loss: 0.2343 - acc: 0.8966 - val_loss: 1.8428 - val_acc: 0.5769\n",
      "Epoch 2/35\n",
      "50/50 [==============================] - 5s 97ms/step - loss: 0.1828 - acc: 0.9267 - val_loss: 2.0438 - val_acc: 0.6154\n",
      "Epoch 3/35\n",
      "50/50 [==============================] - 5s 103ms/step - loss: 0.1767 - acc: 0.9434 - val_loss: 1.7087 - val_acc: 0.4510\n",
      "Epoch 4/35\n",
      "50/50 [==============================] - 5s 93ms/step - loss: 0.1933 - acc: 0.9334 - val_loss: 1.5304 - val_acc: 0.5192\n",
      "Epoch 5/35\n",
      "50/50 [==============================] - 5s 101ms/step - loss: 0.1140 - acc: 0.9533 - val_loss: 2.4843 - val_acc: 0.5245\n",
      "Epoch 6/35\n",
      "50/50 [==============================] - 5s 96ms/step - loss: 0.1297 - acc: 0.9566 - val_loss: 1.9722 - val_acc: 0.5625\n",
      "Epoch 7/35\n",
      "50/50 [==============================] - 5s 94ms/step - loss: 0.0442 - acc: 0.9900 - val_loss: 3.2227 - val_acc: 0.5196\n",
      "Epoch 8/35\n",
      "50/50 [==============================] - 5s 97ms/step - loss: 0.2228 - acc: 0.9401 - val_loss: 1.6389 - val_acc: 0.6058\n",
      "Epoch 9/35\n",
      "50/50 [==============================] - 5s 103ms/step - loss: 0.1332 - acc: 0.9433 - val_loss: 2.7724 - val_acc: 0.6010\n",
      "Epoch 10/35\n",
      "50/50 [==============================] - 5s 91ms/step - loss: 0.1036 - acc: 0.9600 - val_loss: 2.5698 - val_acc: 0.5588\n",
      "Epoch 11/35\n",
      "50/50 [==============================] - 5s 96ms/step - loss: 0.0213 - acc: 1.0000 - val_loss: 3.5286 - val_acc: 0.5962\n",
      "Epoch 12/35\n",
      "50/50 [==============================] - 5s 91ms/step - loss: 0.0524 - acc: 0.9833 - val_loss: 4.1438 - val_acc: 0.5098\n",
      "Epoch 13/35\n",
      "50/50 [==============================] - 5s 97ms/step - loss: 0.1461 - acc: 0.9402 - val_loss: 3.5385 - val_acc: 0.5288\n",
      "Epoch 14/35\n",
      "50/50 [==============================] - 5s 104ms/step - loss: 0.1262 - acc: 0.9566 - val_loss: 3.3180 - val_acc: 0.5735\n",
      "Epoch 15/35\n",
      "50/50 [==============================] - 5s 95ms/step - loss: 0.0837 - acc: 0.9701 - val_loss: 3.1374 - val_acc: 0.5865\n",
      "Epoch 16/35\n",
      "50/50 [==============================] - 5s 92ms/step - loss: 0.0506 - acc: 0.9734 - val_loss: 3.7044 - val_acc: 0.5288\n",
      "Epoch 17/35\n",
      "50/50 [==============================] - 5s 96ms/step - loss: 0.0806 - acc: 0.9800 - val_loss: 2.8680 - val_acc: 0.4951\n",
      "Epoch 18/35\n",
      "50/50 [==============================] - 5s 101ms/step - loss: 0.0530 - acc: 0.9800 - val_loss: 2.8278 - val_acc: 0.5385\n",
      "Epoch 19/35\n",
      "50/50 [==============================] - 5s 99ms/step - loss: 0.0086 - acc: 1.0000 - val_loss: 4.5268 - val_acc: 0.5686\n",
      "Epoch 20/35\n",
      "50/50 [==============================] - 5s 94ms/step - loss: 0.0467 - acc: 0.9901 - val_loss: 4.9261 - val_acc: 0.5529\n",
      "Epoch 21/35\n",
      "50/50 [==============================] - 5s 98ms/step - loss: 0.2572 - acc: 0.9133 - val_loss: 2.2851 - val_acc: 0.5441\n",
      "Epoch 22/35\n",
      "50/50 [==============================] - 5s 93ms/step - loss: 0.0532 - acc: 0.9900 - val_loss: 3.2674 - val_acc: 0.6058\n",
      "Epoch 23/35\n",
      "50/50 [==============================] - 5s 97ms/step - loss: 0.1023 - acc: 0.9734 - val_loss: 2.4029 - val_acc: 0.5817\n",
      "Epoch 24/35\n",
      "50/50 [==============================] - 5s 96ms/step - loss: 0.0245 - acc: 0.9933 - val_loss: 4.1259 - val_acc: 0.5392\n",
      "Epoch 25/35\n",
      "50/50 [==============================] - 5s 92ms/step - loss: 0.0038 - acc: 1.0000 - val_loss: 4.2191 - val_acc: 0.5337\n",
      "Epoch 26/35\n",
      "50/50 [==============================] - 5s 101ms/step - loss: 0.0015 - acc: 1.0000 - val_loss: 4.5337 - val_acc: 0.5686\n",
      "Epoch 27/35\n",
      "50/50 [==============================] - 5s 100ms/step - loss: 0.0522 - acc: 0.9900 - val_loss: 3.5421 - val_acc: 0.6106\n",
      "Epoch 28/35\n",
      "50/50 [==============================] - 5s 103ms/step - loss: 0.0341 - acc: 0.9900 - val_loss: 3.4960 - val_acc: 0.5784\n",
      "Epoch 29/35\n",
      "50/50 [==============================] - 5s 91ms/step - loss: 0.0097 - acc: 0.9967 - val_loss: 4.0560 - val_acc: 0.5673\n",
      "Epoch 30/35\n",
      "50/50 [==============================] - 5s 99ms/step - loss: 0.0016 - acc: 1.0000 - val_loss: 4.0851 - val_acc: 0.5913\n",
      "Epoch 31/35\n",
      "50/50 [==============================] - 5s 98ms/step - loss: 5.9871e-04 - acc: 1.0000 - val_loss: 4.4035 - val_acc: 0.5735\n",
      "Epoch 32/35\n",
      "50/50 [==============================] - 5s 91ms/step - loss: 0.0013 - acc: 1.0000 - val_loss: 4.2409 - val_acc: 0.5913\n",
      "Epoch 33/35\n",
      "50/50 [==============================] - 5s 96ms/step - loss: 0.0226 - acc: 0.9933 - val_loss: 4.0831 - val_acc: 0.5833\n",
      "Epoch 34/35\n",
      "50/50 [==============================] - 5s 94ms/step - loss: 0.0113 - acc: 0.9967 - val_loss: 4.0773 - val_acc: 0.5865\n",
      "Epoch 35/35\n",
      "50/50 [==============================] - 5s 95ms/step - loss: 0.0076 - acc: 0.9967 - val_loss: 4.6110 - val_acc: 0.5539\n"
     ]
    },
    {
     "data": {
      "text/plain": [
       "<keras.callbacks.History at 0x1fe93faa048>"
      ]
     },
     "execution_count": 87,
     "metadata": {},
     "output_type": "execute_result"
    }
   ],
   "source": [
    "## fitting model to images\n",
    "classifier.fit_generator(\n",
    "        train_set,\n",
    "        steps_per_epoch=50, # number of images it will take per epoch,(it is actually equalant to batch_size),\n",
    "                            # if we leave it system will take some number\n",
    "        epochs=35,\n",
    "        validation_data=test_set, # it will show test accuracy ()\n",
    "        validation_steps=38)\n",
    "\n",
    "# Note: validation is checking the test accuracy."
   ]
  },
  {
   "cell_type": "code",
   "execution_count": 21,
   "metadata": {},
   "outputs": [
    {
     "name": "stdout",
     "output_type": "stream",
     "text": [
      "Collecting pillow\n",
      "  Downloading https://files.pythonhosted.org/packages/4e/d9/468422371e6fcf02d6a162ee30db4552221de8b2b3ff837363bf54cbb347/Pillow-6.1.0-cp36-cp36m-win_amd64.whl (2.0MB)\n",
      "Installing collected packages: pillow\n",
      "Successfully installed pillow-6.1.0\n"
     ]
    }
   ],
   "source": [
    "! pip install pillow"
   ]
  },
  {
   "cell_type": "code",
   "execution_count": 64,
   "metadata": {},
   "outputs": [],
   "source": [
    "## prediction of single new data\n",
    "import numpy as np\n",
    "from keras.preprocessing import image\n",
    "test_image= image.load_img('D:\\\\Term_3\\\\AI\\\\DAY_5\\\\2-keras-cnn-catdog\\\\dataset\\\\single_prediction\\\\dog.jpg'\n",
    "                           ,target_size =(64,64))\n"
   ]
  },
  {
   "cell_type": "code",
   "execution_count": 65,
   "metadata": {},
   "outputs": [
    {
     "data": {
      "image/png": "[encoded data removed]",
      "text/plain": [
       "<PIL.Image.Image image mode=RGB size=64x64 at 0x1FE9283A7F0>"
      ]
     },
     "execution_count": 65,
     "metadata": {},
     "output_type": "execute_result"
    }
   ],
   "source": [
    "test_image"
   ]
  },
  {
   "cell_type": "code",
   "execution_count": 66,
   "metadata": {},
   "outputs": [],
   "source": [
    "## Convert image to array\n",
    "test_image = image.img_to_array(test_image)"
   ]
  },
  {
   "cell_type": "code",
   "execution_count": 67,
   "metadata": {},
   "outputs": [],
   "source": [
    "## For single prediction change the dimension using axis. To remove problem of batch\n",
    "\n",
    "test_image=test_image.reshape(1,64,64,3)"
   ]
  },
  {
   "cell_type": "code",
   "execution_count": 68,
   "metadata": {},
   "outputs": [
    {
     "data": {
      "text/plain": [
       "array([[1.]], dtype=float32)"
      ]
     },
     "execution_count": 68,
     "metadata": {},
     "output_type": "execute_result"
    }
   ],
   "source": [
    "result = classifier.predict(test_image)\n",
    "result"
   ]
  },
  {
   "cell_type": "code",
   "execution_count": 69,
   "metadata": {},
   "outputs": [],
   "source": [
    "## Class label of dog and cat\n",
    "\n",
    "if result == 1:\n",
    "    prediction = 'dog'\n",
    "else:\n",
    "    prediction = 'cat'\n",
    "    "
   ]
  },
  {
   "cell_type": "code",
   "execution_count": 70,
   "metadata": {},
   "outputs": [
    {
     "data": {
      "text/plain": [
       "'dog'"
      ]
     },
     "execution_count": 70,
     "metadata": {},
     "output_type": "execute_result"
    }
   ],
   "source": [
    "prediction"
   ]
  },
  {
   "cell_type": "markdown",
   "metadata": {},
   "source": [
    "# saving weights"
   ]
  },
  {
   "cell_type": "code",
   "execution_count": 89,
   "metadata": {},
   "outputs": [
    {
     "name": "stdout",
     "output_type": "stream",
     "text": [
      "Saved model to disk\n"
     ]
    }
   ],
   "source": [
    "# serialize model to JSON\n",
    "\n",
    "model_json = classifier.to_json()\n",
    "with open(\"model.json\",\"w\") as json_file:\n",
    "    json_file.write(model_json)\n",
    "# serialize weights to disk\n",
    "classifier.save_weights(\"model.h5\")\n",
    "print(\"Saved model to disk\")"
   ]
  },
  {
   "cell_type": "code",
   "execution_count": null,
   "metadata": {},
   "outputs": [],
   "source": []
  }
 ],
 "metadata": {
  "kernelspec": {
   "display_name": "Python 3",
   "language": "python",
   "name": "python3"
  },
  "language_info": {
   "codemirror_mode": {
    "name": "ipython",
    "version": 3
   },
   "file_extension": ".py",
   "mimetype": "text/x-python",
   "name": "python",
   "nbconvert_exporter": "python",
   "pygments_lexer": "ipython3",
   "version": "3.7.1"
  }
 },
 "nbformat": 4,
 "nbformat_minor": 2
}
