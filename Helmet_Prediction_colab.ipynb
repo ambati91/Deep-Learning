{
  "nbformat": 4,
  "nbformat_minor": 0,
  "metadata": {
    "kernelspec": {
      "display_name": "Python 3",
      "language": "python",
      "name": "python3"
    },
    "language_info": {
      "codemirror_mode": {
        "name": "ipython",
        "version": 3
      },
      "file_extension": ".py",
      "mimetype": "text/x-python",
      "name": "python",
      "nbconvert_exporter": "python",
      "pygments_lexer": "ipython3",
      "version": "3.6.9"
    },
    "colab": {
      "name": "Helmet_Prediction.ipynb",
      "version": "0.3.2",
      "provenance": []
    }
  },
  "cells": [
    {
      "cell_type": "markdown",
      "metadata": {
        "id": "9KGl4Y3JFTDW",
        "colab_type": "text"
      },
      "source": [
        "## Classification demo including training"
      ]
    },
    {
      "cell_type": "code",
      "metadata": {
        "id": "sjkWfCveFTDc",
        "colab_type": "code",
        "colab": {}
      },
      "source": [
        "##Import libraries\n",
        "from keras.models import Sequential\n",
        "from keras.layers import Conv2D\n",
        "from keras.layers import MaxPooling2D\n",
        "from keras.layers import Flatten\n",
        "from keras.layers import Dense"
      ],
      "execution_count": 0,
      "outputs": []
    },
    {
      "cell_type": "code",
      "metadata": {
        "id": "nE9jAwsmFTDn",
        "colab_type": "code",
        "colab": {}
      },
      "source": [
        "## Initialising the CNN\n",
        "classifier = Sequential()"
      ],
      "execution_count": 0,
      "outputs": []
    },
    {
      "cell_type": "code",
      "metadata": {
        "id": "9B_YPue0FTDz",
        "colab_type": "code",
        "colab": {}
      },
      "source": [
        "## Convolution(64 feature detector of dimension 3 by 3), input shape 3 layer for color image)\n",
        "classifier.add(Conv2D(85,(5,5),input_shape = (150,150,3), activation = 'relu'))\n",
        "## MaxPooling\n",
        "classifier.add(MaxPooling2D(pool_size = (2,2)))\n",
        "\n",
        "## Add another layer\n",
        "classifier.add(Conv2D(85,(5,5), activation = 'relu'))\n",
        "classifier.add(MaxPooling2D(pool_size = (2,2)))\n",
        "\n",
        "\n",
        "## Add another layer\n",
        "classifier.add(Conv2D(85,(5,5), activation = 'relu'))\n",
        "classifier.add(MaxPooling2D(pool_size = (2,2)))\n"
      ],
      "execution_count": 0,
      "outputs": []
    },
    {
      "cell_type": "code",
      "metadata": {
        "id": "zC-xIVl8FTD5",
        "colab_type": "code",
        "colab": {}
      },
      "source": [
        "## Flattening\n",
        "classifier.add(Flatten())"
      ],
      "execution_count": 0,
      "outputs": []
    },
    {
      "cell_type": "code",
      "metadata": {
        "id": "m-xiRpBWFTD_",
        "colab_type": "code",
        "colab": {}
      },
      "source": [
        "## Fully connected ANN, Hidden ANN and output layer\n",
        "classifier.add(Dense(units = 128, activation = 'relu'))\n",
        "\n",
        "classifier.add(Dense(units = 128, activation = 'relu'))\n",
        "\n",
        "classifier.add(Dense(units = 128, activation = 'relu'))\n"
      ],
      "execution_count": 0,
      "outputs": []
    },
    {
      "cell_type": "code",
      "metadata": {
        "id": "CHthxcTyFTEH",
        "colab_type": "code",
        "colab": {}
      },
      "source": [
        "#output layer\n",
        "classifier.add(Dense(units = 1, activation = 'sigmoid'))"
      ],
      "execution_count": 0,
      "outputs": []
    },
    {
      "cell_type": "code",
      "metadata": {
        "id": "KgE_QlKVGHce",
        "colab_type": "code",
        "colab": {}
      },
      "source": [
        ""
      ],
      "execution_count": 0,
      "outputs": []
    },
    {
      "cell_type": "code",
      "metadata": {
        "id": "XjeBsihZFTEO",
        "colab_type": "code",
        "colab": {}
      },
      "source": [
        "## Compliling\n",
        "classifier.compile(optimizer = 'adam', loss = 'binary_crossentropy', metrics = ['accuracy'])"
      ],
      "execution_count": 0,
      "outputs": []
    },
    {
      "cell_type": "code",
      "metadata": {
        "id": "v-IDV7CXFTEU",
        "colab_type": "code",
        "colab": {}
      },
      "source": [
        "## data importing and transforming and scaling\n",
        "from keras.preprocessing.image import ImageDataGenerator\n",
        "train_datagen = ImageDataGenerator(\n",
        "        rescale=1./255, \n",
        "        shear_range=0.2, # image will be distorted (let say 100 images, it will do 100 with original, another 100 with shear)\n",
        "        zoom_range=0.2, # each image slightly modify (zooms 20 percent in this case)\n",
        "        horizontal_flip=True) # flipping the image in diffrent directions "
      ],
      "execution_count": 0,
      "outputs": []
    },
    {
      "cell_type": "code",
      "metadata": {
        "id": "ImNJceLgFpmp",
        "colab_type": "code",
        "outputId": "35cb9fa4-3b67-4b36-b91b-065169be4625",
        "colab": {
          "base_uri": "https://localhost:8080/",
          "height": 34
        }
      },
      "source": [
        "from google.colab import drive\n",
        "drive.mount('/content/drive',force_remount = True)"
      ],
      "execution_count": 35,
      "outputs": [
        {
          "output_type": "stream",
          "text": [
            "Mounted at /content/drive\n"
          ],
          "name": "stdout"
        }
      ]
    },
    {
      "cell_type": "code",
      "metadata": {
        "id": "MYBrMH8pFTEa",
        "colab_type": "code",
        "colab": {}
      },
      "source": [
        "## Scaling test data\n",
        "##no  data augmentation\n",
        "test_datagen = ImageDataGenerator(rescale=1./255)"
      ],
      "execution_count": 0,
      "outputs": []
    },
    {
      "cell_type": "code",
      "metadata": {
        "id": "80GhNSl8FTEh",
        "colab_type": "code",
        "outputId": "11641a5b-fa8c-49ab-dd2c-d6d4f93717a4",
        "colab": {
          "base_uri": "https://localhost:8080/",
          "height": 34
        }
      },
      "source": [
        "## Importing training data\n",
        "train_set = train_datagen.flow_from_directory('/content/drive/My Drive/helmet_detection/training',\n",
        "                                               target_size=(150, 150),\n",
        "                                               batch_size=6, # it takes 6 samples from dataset, like wise it cover all the data\n",
        "                                                             # \n",
        "                                               class_mode='binary')"
      ],
      "execution_count": 37,
      "outputs": [
        {
          "output_type": "stream",
          "text": [
            "Found 647 images belonging to 2 classes.\n"
          ],
          "name": "stdout"
        }
      ]
    },
    {
      "cell_type": "code",
      "metadata": {
        "id": "m6u05QnVFTEu",
        "colab_type": "code",
        "outputId": "04a1b30d-3498-440e-a7d3-ff689f1aeba3",
        "colab": {
          "base_uri": "https://localhost:8080/",
          "height": 34
        }
      },
      "source": [
        "train_set.class_indices"
      ],
      "execution_count": 38,
      "outputs": [
        {
          "output_type": "execute_result",
          "data": {
            "text/plain": [
              "{'with helmet': 0, 'without helmet': 1}"
            ]
          },
          "metadata": {
            "tags": []
          },
          "execution_count": 38
        }
      ]
    },
    {
      "cell_type": "code",
      "metadata": {
        "id": "Eulpam7MFTE2",
        "colab_type": "code",
        "outputId": "4ad210d3-618a-4990-a04f-f0b7e2f1c1ac",
        "colab": {
          "base_uri": "https://localhost:8080/",
          "height": 34
        }
      },
      "source": [
        "#which is cat which is dog?\n",
        "label_map = (train_set.class_indices)\n",
        "print(label_map)"
      ],
      "execution_count": 39,
      "outputs": [
        {
          "output_type": "stream",
          "text": [
            "{'with helmet': 0, 'without helmet': 1}\n"
          ],
          "name": "stdout"
        }
      ]
    },
    {
      "cell_type": "code",
      "metadata": {
        "id": "jeG5Hn9eFTE9",
        "colab_type": "code",
        "outputId": "3bd1867e-add8-4046-93d4-2b03b703f104",
        "colab": {
          "base_uri": "https://localhost:8080/",
          "height": 34
        }
      },
      "source": [
        "## Importng test data\n",
        "test_set = test_datagen.flow_from_directory('/content/drive/My Drive/helmet_detection/testing',\n",
        "                                            target_size=(150, 150),\n",
        "                                            batch_size=6,\n",
        "                                            class_mode='binary')"
      ],
      "execution_count": 40,
      "outputs": [
        {
          "output_type": "stream",
          "text": [
            "Found 208 images belonging to 2 classes.\n"
          ],
          "name": "stdout"
        }
      ]
    },
    {
      "cell_type": "code",
      "metadata": {
        "id": "An1kzcFJFTFF",
        "colab_type": "code",
        "outputId": "21e6807b-df37-445c-b8f1-5a5c13548efa",
        "colab": {
          "base_uri": "https://localhost:8080/",
          "height": 1000
        }
      },
      "source": [
        "## fitting model to images\n",
        "classifier.fit_generator(\n",
        "        train_set,\n",
        "        steps_per_epoch=50, # number of images it will take per epoch,(it is actually equalant to batch_size),\n",
        "                            # if we leave it system will take some number\n",
        "        epochs=35,\n",
        "        validation_data=test_set, # it will show test accuracy ()\n",
        "        validation_steps=38)\n",
        "\n",
        "# Note: validation is checking the test accuracy."
      ],
      "execution_count": 41,
      "outputs": [
        {
          "output_type": "stream",
          "text": [
            "Epoch 1/35\n",
            "50/50 [==============================] - 79s 2s/step - loss: 0.7793 - acc: 0.5287 - val_loss: 0.6934 - val_acc: 0.4867\n",
            "Epoch 2/35\n",
            "50/50 [==============================] - 77s 2s/step - loss: 0.7355 - acc: 0.6000 - val_loss: 0.6930 - val_acc: 0.4690\n",
            "Epoch 3/35\n",
            "50/50 [==============================] - 77s 2s/step - loss: 0.6778 - acc: 0.5587 - val_loss: 0.6851 - val_acc: 0.5885\n",
            "Epoch 4/35\n",
            "50/50 [==============================] - 79s 2s/step - loss: 0.6665 - acc: 0.5900 - val_loss: 0.6907 - val_acc: 0.4912\n",
            "Epoch 5/35\n",
            "50/50 [==============================] - 79s 2s/step - loss: 0.7011 - acc: 0.4974 - val_loss: 0.6907 - val_acc: 0.5177\n",
            "Epoch 6/35\n",
            "50/50 [==============================] - 79s 2s/step - loss: 0.7260 - acc: 0.5500 - val_loss: 0.6888 - val_acc: 0.5664\n",
            "Epoch 7/35\n",
            "50/50 [==============================] - 82s 2s/step - loss: 0.6876 - acc: 0.5433 - val_loss: 0.6840 - val_acc: 0.5841\n",
            "Epoch 8/35\n",
            "50/50 [==============================] - 81s 2s/step - loss: 0.6785 - acc: 0.6367 - val_loss: 0.6908 - val_acc: 0.5044\n",
            "Epoch 9/35\n",
            "50/50 [==============================] - 82s 2s/step - loss: 0.6775 - acc: 0.6347 - val_loss: 0.6979 - val_acc: 0.5044\n",
            "Epoch 10/35\n",
            "50/50 [==============================] - 83s 2s/step - loss: 0.6660 - acc: 0.6100 - val_loss: 0.6894 - val_acc: 0.5619\n",
            "Epoch 11/35\n",
            "50/50 [==============================] - 79s 2s/step - loss: 0.6206 - acc: 0.6666 - val_loss: 0.6904 - val_acc: 0.5973\n",
            "Epoch 12/35\n",
            "50/50 [==============================] - 79s 2s/step - loss: 0.6551 - acc: 0.6260 - val_loss: 0.6871 - val_acc: 0.5223\n",
            "Epoch 13/35\n",
            "50/50 [==============================] - 80s 2s/step - loss: 0.6770 - acc: 0.6200 - val_loss: 0.7035 - val_acc: 0.5265\n",
            "Epoch 14/35\n",
            "50/50 [==============================] - 79s 2s/step - loss: 0.6338 - acc: 0.6467 - val_loss: 0.6889 - val_acc: 0.5708\n",
            "Epoch 15/35\n",
            "50/50 [==============================] - 79s 2s/step - loss: 0.6409 - acc: 0.6267 - val_loss: 0.6867 - val_acc: 0.5531\n",
            "Epoch 16/35\n",
            "50/50 [==============================] - 79s 2s/step - loss: 0.6173 - acc: 0.6687 - val_loss: 0.6767 - val_acc: 0.5752\n",
            "Epoch 17/35\n",
            "50/50 [==============================] - 79s 2s/step - loss: 0.6550 - acc: 0.6047 - val_loss: 0.6841 - val_acc: 0.5310\n",
            "Epoch 18/35\n",
            "50/50 [==============================] - 79s 2s/step - loss: 0.6199 - acc: 0.6567 - val_loss: 0.6587 - val_acc: 0.5973\n",
            "Epoch 19/35\n",
            "50/50 [==============================] - 79s 2s/step - loss: 0.6357 - acc: 0.6520 - val_loss: 0.6437 - val_acc: 0.6195\n",
            "Epoch 20/35\n",
            "50/50 [==============================] - 79s 2s/step - loss: 0.6547 - acc: 0.6067 - val_loss: 0.6870 - val_acc: 0.5575\n",
            "Epoch 21/35\n",
            "50/50 [==============================] - 79s 2s/step - loss: 0.6047 - acc: 0.6866 - val_loss: 0.6456 - val_acc: 0.6327\n",
            "Epoch 22/35\n",
            "50/50 [==============================] - 79s 2s/step - loss: 0.6199 - acc: 0.6600 - val_loss: 0.6922 - val_acc: 0.5531\n",
            "Epoch 23/35\n",
            "50/50 [==============================] - 79s 2s/step - loss: 0.6374 - acc: 0.6500 - val_loss: 0.6766 - val_acc: 0.5841\n",
            "Epoch 24/35\n",
            "50/50 [==============================] - 79s 2s/step - loss: 0.6018 - acc: 0.6560 - val_loss: 0.5926 - val_acc: 0.6607\n",
            "Epoch 25/35\n",
            "50/50 [==============================] - 79s 2s/step - loss: 0.8019 - acc: 0.5933 - val_loss: 0.6634 - val_acc: 0.5841\n",
            "Epoch 26/35\n",
            "50/50 [==============================] - 79s 2s/step - loss: 0.6850 - acc: 0.6367 - val_loss: 0.6551 - val_acc: 0.6239\n",
            "Epoch 27/35\n",
            "50/50 [==============================] - 79s 2s/step - loss: 0.6507 - acc: 0.6400 - val_loss: 0.6937 - val_acc: 0.4956\n",
            "Epoch 28/35\n",
            "50/50 [==============================] - 79s 2s/step - loss: 0.6235 - acc: 0.6633 - val_loss: 0.6891 - val_acc: 0.5664\n",
            "Epoch 29/35\n",
            "50/50 [==============================] - 79s 2s/step - loss: 0.6257 - acc: 0.6567 - val_loss: 0.6441 - val_acc: 0.6372\n",
            "Epoch 30/35\n",
            "50/50 [==============================] - 79s 2s/step - loss: 0.5980 - acc: 0.6560 - val_loss: 0.7106 - val_acc: 0.5619\n",
            "Epoch 31/35\n",
            "50/50 [==============================] - 79s 2s/step - loss: 0.6832 - acc: 0.5833 - val_loss: 0.6468 - val_acc: 0.6195\n",
            "Epoch 32/35\n",
            "50/50 [==============================] - 79s 2s/step - loss: 0.5750 - acc: 0.7314 - val_loss: 0.7072 - val_acc: 0.5398\n",
            "Epoch 33/35\n",
            "50/50 [==============================] - 79s 2s/step - loss: 0.6138 - acc: 0.6420 - val_loss: 0.6742 - val_acc: 0.5398\n",
            "Epoch 34/35\n",
            "50/50 [==============================] - 79s 2s/step - loss: 0.5957 - acc: 0.6833 - val_loss: 0.6401 - val_acc: 0.6283\n",
            "Epoch 35/35\n",
            "50/50 [==============================] - 80s 2s/step - loss: 0.5795 - acc: 0.6767 - val_loss: 0.6080 - val_acc: 0.6563\n"
          ],
          "name": "stdout"
        },
        {
          "output_type": "execute_result",
          "data": {
            "text/plain": [
              "<keras.callbacks.History at 0x7f74e989c198>"
            ]
          },
          "metadata": {
            "tags": []
          },
          "execution_count": 41
        }
      ]
    },
    {
      "cell_type": "code",
      "metadata": {
        "id": "qvpqsvFJFTFK",
        "colab_type": "code",
        "outputId": "5cfbd8b4-01f6-4791-cc24-fcd11d605c70",
        "colab": {}
      },
      "source": [
        "#! pip install pillow"
      ],
      "execution_count": 0,
      "outputs": [
        {
          "output_type": "stream",
          "text": [
            "Collecting pillow\n",
            "  Downloading https://files.pythonhosted.org/packages/4e/d9/468422371e6fcf02d6a162ee30db4552221de8b2b3ff837363bf54cbb347/Pillow-6.1.0-cp36-cp36m-win_amd64.whl (2.0MB)\n",
            "Installing collected packages: pillow\n",
            "Successfully installed pillow-6.1.0\n"
          ],
          "name": "stdout"
        }
      ]
    },
    {
      "cell_type": "code",
      "metadata": {
        "id": "MY9LqXb2FTFQ",
        "colab_type": "code",
        "colab": {}
      },
      "source": [
        "## prediction of single new data\n",
        "import numpy as np\n",
        "from keras.preprocessing import image\n",
        "test_image= image.load_img('/content/drive/My Drive/helmet_detection/single_prediction/110.jpg'\n",
        "                           ,target_size =(150,150))\n"
      ],
      "execution_count": 0,
      "outputs": []
    },
    {
      "cell_type": "code",
      "metadata": {
        "id": "BgChWCvdFTFW",
        "colab_type": "code",
        "outputId": "8dd37488-a714-4184-cff0-28ea72278499",
        "colab": {
          "base_uri": "https://localhost:8080/",
          "height": 167
        }
      },
      "source": [
        "test_image"
      ],
      "execution_count": 54,
      "outputs": [
        {
          "output_type": "execute_result",
          "data": {
            "image/png": "[encoded data removed]",
            "text/plain": [
              "<PIL.Image.Image image mode=RGB size=150x150 at 0x7F74E92C7160>"
            ]
          },
          "metadata": {
            "tags": []
          },
          "execution_count": 54
        }
      ]
    },
    {
      "cell_type": "code",
      "metadata": {
        "id": "9KqchDSOFTFb",
        "colab_type": "code",
        "colab": {}
      },
      "source": [
        "## Convert image to array\n",
        "test_image = image.img_to_array(test_image)"
      ],
      "execution_count": 0,
      "outputs": []
    },
    {
      "cell_type": "code",
      "metadata": {
        "id": "cfrlS_H-FTFj",
        "colab_type": "code",
        "colab": {}
      },
      "source": [
        "## For single prediction change the dimension using axis. To remove problem of batch\n",
        "\n",
        "test_image=test_image.reshape(1,150,150,3)"
      ],
      "execution_count": 0,
      "outputs": []
    },
    {
      "cell_type": "code",
      "metadata": {
        "id": "zQlaW1pMFTFn",
        "colab_type": "code",
        "outputId": "4a6191c4-54cf-4a50-de85-af7a46f18f86",
        "colab": {
          "base_uri": "https://localhost:8080/",
          "height": 34
        }
      },
      "source": [
        "result = classifier.predict(test_image)\n",
        "result"
      ],
      "execution_count": 57,
      "outputs": [
        {
          "output_type": "execute_result",
          "data": {
            "text/plain": [
              "array([[0.3695122]], dtype=float32)"
            ]
          },
          "metadata": {
            "tags": []
          },
          "execution_count": 57
        }
      ]
    },
    {
      "cell_type": "code",
      "metadata": {
        "id": "7-qcSUuzFTF0",
        "colab_type": "code",
        "colab": {}
      },
      "source": [
        "## Class label of dog and cat\n",
        "\n",
        "if result == 1:\n",
        "    prediction = 'without helmet'\n",
        "else:\n",
        "    prediction = 'with helmet'\n",
        "    "
      ],
      "execution_count": 0,
      "outputs": []
    },
    {
      "cell_type": "code",
      "metadata": {
        "id": "HBXiarK6FTGF",
        "colab_type": "code",
        "outputId": "629241ce-2153-4f91-efc3-a3c7f384d45a",
        "colab": {
          "base_uri": "https://localhost:8080/",
          "height": 34
        }
      },
      "source": [
        "prediction"
      ],
      "execution_count": 59,
      "outputs": [
        {
          "output_type": "execute_result",
          "data": {
            "text/plain": [
              "'with helmet'"
            ]
          },
          "metadata": {
            "tags": []
          },
          "execution_count": 59
        }
      ]
    },
    {
      "cell_type": "markdown",
      "metadata": {
        "id": "BNWwpHeJFTGN",
        "colab_type": "text"
      },
      "source": [
        "# saving weights"
      ]
    },
    {
      "cell_type": "code",
      "metadata": {
        "id": "KkRoYkBzFTGP",
        "colab_type": "code",
        "outputId": "3c52eefb-3d5b-47db-8ab1-9eab4ee28c6f",
        "colab": {}
      },
      "source": [
        "# serialize model to JSON\n",
        "\n",
        "model_json = classifier.to_json()\n",
        "with open(\"model.json\",\"w\") as json_file:\n",
        "    json_file.write(model_json)\n",
        "# serialize weights to disk\n",
        "classifier.save_weights(\"model.h5\")\n",
        "print(\"Saved model to disk\")"
      ],
      "execution_count": 0,
      "outputs": [
        {
          "output_type": "stream",
          "text": [
            "Saved model to disk\n"
          ],
          "name": "stdout"
        }
      ]
    },
    {
      "cell_type": "code",
      "metadata": {
        "id": "ShM4zHObFTGV",
        "colab_type": "code",
        "colab": {}
      },
      "source": [
        ""
      ],
      "execution_count": 0,
      "outputs": []
    }
  ]
}