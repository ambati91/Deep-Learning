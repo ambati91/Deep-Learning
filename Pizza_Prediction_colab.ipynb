{
 "cells": [
  {
   "cell_type": "markdown",
   "metadata": {
    "colab_type": "text",
    "id": "9KGl4Y3JFTDW"
   },
   "source": [
    "## Classification demo including training"
   ]
  },
  {
   "cell_type": "code",
   "execution_count": 0,
   "metadata": {
    "colab": {},
    "colab_type": "code",
    "id": "sjkWfCveFTDc"
   },
   "outputs": [],
   "source": [
    "##Import libraries\n",
    "from keras.models import Sequential\n",
    "from keras.layers import Conv2D\n",
    "from keras.layers import MaxPooling2D\n",
    "from keras.layers import Flatten\n",
    "from keras.layers import Dense"
   ]
  },
  {
   "cell_type": "code",
   "execution_count": 0,
   "metadata": {
    "colab": {},
    "colab_type": "code",
    "id": "nE9jAwsmFTDn"
   },
   "outputs": [],
   "source": [
    "## Initialising the CNN\n",
    "classifier = Sequential()"
   ]
  },
  {
   "cell_type": "code",
   "execution_count": 0,
   "metadata": {
    "colab": {},
    "colab_type": "code",
    "id": "9B_YPue0FTDz"
   },
   "outputs": [],
   "source": [
    "## Convolution(64 feature detector of dimension 3 by 3), input shape 3 layer for color image)\n",
    "classifier.add(Conv2D(85,(5,5),input_shape = (150,150,3), activation = 'relu'))\n",
    "## MaxPooling\n",
    "classifier.add(MaxPooling2D(pool_size = (2,2)))\n",
    "\n",
    "## Add another layer\n",
    "classifier.add(Conv2D(85,(5,5), activation = 'relu'))\n",
    "classifier.add(MaxPooling2D(pool_size = (2,2)))\n",
    "\n",
    "\n",
    "## Add another layer\n",
    "classifier.add(Conv2D(85,(5,5), activation = 'relu'))\n",
    "classifier.add(MaxPooling2D(pool_size = (2,2)))\n"
   ]
  },
  {
   "cell_type": "code",
   "execution_count": 0,
   "metadata": {
    "colab": {},
    "colab_type": "code",
    "id": "zC-xIVl8FTD5"
   },
   "outputs": [],
   "source": [
    "## Flattening\n",
    "classifier.add(Flatten())"
   ]
  },
  {
   "cell_type": "code",
   "execution_count": 0,
   "metadata": {
    "colab": {},
    "colab_type": "code",
    "id": "m-xiRpBWFTD_"
   },
   "outputs": [],
   "source": [
    "## Fully connected ANN, Hidden ANN and output layer\n",
    "classifier.add(Dense(units = 128, activation = 'relu'))\n",
    "\n",
    "classifier.add(Dense(units = 128, activation = 'relu'))\n",
    "\n",
    "classifier.add(Dense(units = 128, activation = 'relu'))\n"
   ]
  },
  {
   "cell_type": "code",
   "execution_count": 0,
   "metadata": {
    "colab": {},
    "colab_type": "code",
    "id": "CHthxcTyFTEH"
   },
   "outputs": [],
   "source": [
    "#output layer\n",
    "classifier.add(Dense(units = 1, activation = 'sigmoid'))"
   ]
  },
  {
   "cell_type": "code",
   "execution_count": 0,
   "metadata": {
    "colab": {},
    "colab_type": "code",
    "id": "KgE_QlKVGHce"
   },
   "outputs": [],
   "source": []
  },
  {
   "cell_type": "code",
   "execution_count": 0,
   "metadata": {
    "colab": {},
    "colab_type": "code",
    "id": "XjeBsihZFTEO"
   },
   "outputs": [],
   "source": [
    "## Compliling\n",
    "classifier.compile(optimizer = 'adam', loss = 'binary_crossentropy', metrics = ['accuracy'])"
   ]
  },
  {
   "cell_type": "code",
   "execution_count": 0,
   "metadata": {
    "colab": {},
    "colab_type": "code",
    "id": "v-IDV7CXFTEU"
   },
   "outputs": [],
   "source": [
    "## data importing and transforming and scaling\n",
    "from keras.preprocessing.image import ImageDataGenerator\n",
    "train_datagen = ImageDataGenerator(\n",
    "        rescale=1./255, \n",
    "        shear_range=0.2, # image will be distorted (let say 100 images, it will do 100 with original, another 100 with shear)\n",
    "        zoom_range=0.2, # each image slightly modify (zooms 20 percent in this case)\n",
    "        horizontal_flip=True) # flipping the image in diffrent directions "
   ]
  },
  {
   "cell_type": "code",
   "execution_count": 78,
   "metadata": {
    "colab": {
     "base_uri": "https://localhost:8080/",
     "height": 34
    },
    "colab_type": "code",
    "id": "ImNJceLgFpmp",
    "outputId": "923efe78-25b7-4163-ed2e-d2e7fd6ef036"
   },
   "outputs": [
    {
     "name": "stdout",
     "output_type": "stream",
     "text": [
      "Mounted at /content/drive\n"
     ]
    }
   ],
   "source": [
    "from google.colab import drive\n",
    "drive.mount('/content/drive',force_remount = True)"
   ]
  },
  {
   "cell_type": "code",
   "execution_count": 0,
   "metadata": {
    "colab": {},
    "colab_type": "code",
    "id": "MYBrMH8pFTEa"
   },
   "outputs": [],
   "source": [
    "## Scaling test data\n",
    "##no  data augmentation\n",
    "test_datagen = ImageDataGenerator(rescale=1./255)"
   ]
  },
  {
   "cell_type": "code",
   "execution_count": 80,
   "metadata": {
    "colab": {
     "base_uri": "https://localhost:8080/",
     "height": 34
    },
    "colab_type": "code",
    "id": "80GhNSl8FTEh",
    "outputId": "7df94ce5-1a0f-4be1-f3de-1b518bb10f9d"
   },
   "outputs": [
    {
     "name": "stdout",
     "output_type": "stream",
     "text": [
      "Found 2000 images belonging to 2 classes.\n"
     ]
    }
   ],
   "source": [
    "## Importing training data\n",
    "train_set = train_datagen.flow_from_directory('/content/drive/My Drive/pizza-assignment/train_set',\n",
    "                                               target_size=(150, 150),\n",
    "                                               batch_size=6, # it takes 6 samples from dataset, like wise it cover all the data\n",
    "                                                             # \n",
    "                                               class_mode='binary')"
   ]
  },
  {
   "cell_type": "code",
   "execution_count": 81,
   "metadata": {
    "colab": {
     "base_uri": "https://localhost:8080/",
     "height": 34
    },
    "colab_type": "code",
    "id": "m6u05QnVFTEu",
    "outputId": "d8dd1b6a-0a2b-414a-855e-33f6e4bcca2f"
   },
   "outputs": [
    {
     "data": {
      "text/plain": [
       "{'Burnt_Pizza': 0, 'Good_Pizza': 1}"
      ]
     },
     "execution_count": 81,
     "metadata": {
      "tags": []
     },
     "output_type": "execute_result"
    }
   ],
   "source": [
    "train_set.class_indices"
   ]
  },
  {
   "cell_type": "code",
   "execution_count": 90,
   "metadata": {
    "colab": {
     "base_uri": "https://localhost:8080/",
     "height": 34
    },
    "colab_type": "code",
    "id": "Eulpam7MFTE2",
    "outputId": "7f141df6-7233-4ba0-f10c-f3151661ca2e"
   },
   "outputs": [
    {
     "name": "stdout",
     "output_type": "stream",
     "text": [
      "{'Burnt_Pizza': 0, 'Good_Pizza': 1}\n"
     ]
    }
   ],
   "source": [
    "#which is cat which is dog?\n",
    "label_map = (train_set.class_indices)\n",
    "print(label_map)"
   ]
  },
  {
   "cell_type": "code",
   "execution_count": 91,
   "metadata": {
    "colab": {
     "base_uri": "https://localhost:8080/",
     "height": 34
    },
    "colab_type": "code",
    "id": "jeG5Hn9eFTE9",
    "outputId": "57a7410c-815d-4965-ce21-ad850151bb87"
   },
   "outputs": [
    {
     "name": "stdout",
     "output_type": "stream",
     "text": [
      "Found 100 images belonging to 2 classes.\n"
     ]
    }
   ],
   "source": [
    "## Importng test data\n",
    "test_set = test_datagen.flow_from_directory('/content/drive/My Drive/pizza-assignment/test_set',\n",
    "                                            target_size=(150, 150),\n",
    "                                            batch_size=6,\n",
    "                                            class_mode='binary')"
   ]
  },
  {
   "cell_type": "code",
   "execution_count": 92,
   "metadata": {
    "colab": {
     "base_uri": "https://localhost:8080/",
     "height": 1000
    },
    "colab_type": "code",
    "id": "An1kzcFJFTFF",
    "outputId": "e444ffc0-40cc-4510-d11e-6c443e307a41"
   },
   "outputs": [
    {
     "name": "stdout",
     "output_type": "stream",
     "text": [
      "Epoch 1/35\n",
      "50/50 [==============================] - 78s 2s/step - loss: 0.6518 - acc: 0.6100 - val_loss: 0.7244 - val_acc: 0.4911\n",
      "Epoch 2/35\n",
      "50/50 [==============================] - 77s 2s/step - loss: 0.5914 - acc: 0.6967 - val_loss: 0.6160 - val_acc: 0.6875\n",
      "Epoch 3/35\n",
      "50/50 [==============================] - 77s 2s/step - loss: 0.5940 - acc: 0.7100 - val_loss: 0.7333 - val_acc: 0.6830\n",
      "Epoch 4/35\n",
      "50/50 [==============================] - 77s 2s/step - loss: 0.6567 - acc: 0.6600 - val_loss: 0.6208 - val_acc: 0.7054\n",
      "Epoch 5/35\n",
      "50/50 [==============================] - 77s 2s/step - loss: 0.5655 - acc: 0.7233 - val_loss: 0.6811 - val_acc: 0.6802\n",
      "Epoch 6/35\n",
      "50/50 [==============================] - 77s 2s/step - loss: 0.5989 - acc: 0.6700 - val_loss: 0.8707 - val_acc: 0.5625\n",
      "Epoch 7/35\n",
      "50/50 [==============================] - 77s 2s/step - loss: 0.5991 - acc: 0.7100 - val_loss: 0.6279 - val_acc: 0.6964\n",
      "Epoch 8/35\n",
      "50/50 [==============================] - 77s 2s/step - loss: 0.6221 - acc: 0.6633 - val_loss: 0.6878 - val_acc: 0.6473\n",
      "Epoch 9/35\n",
      "50/50 [==============================] - 77s 2s/step - loss: 0.6109 - acc: 0.6633 - val_loss: 0.6926 - val_acc: 0.5045\n",
      "Epoch 10/35\n",
      "50/50 [==============================] - 77s 2s/step - loss: 0.6410 - acc: 0.6633 - val_loss: 0.6704 - val_acc: 0.6830\n",
      "Epoch 11/35\n",
      "50/50 [==============================] - 76s 2s/step - loss: 0.5896 - acc: 0.7133 - val_loss: 0.6291 - val_acc: 0.7009\n",
      "Epoch 12/35\n",
      "50/50 [==============================] - 76s 2s/step - loss: 0.6068 - acc: 0.6367 - val_loss: 0.6711 - val_acc: 0.7455\n",
      "Epoch 13/35\n",
      "50/50 [==============================] - 77s 2s/step - loss: 0.5778 - acc: 0.7100 - val_loss: 0.6642 - val_acc: 0.7027\n",
      "Epoch 14/35\n",
      "50/50 [==============================] - 77s 2s/step - loss: 0.5458 - acc: 0.7433 - val_loss: 0.5884 - val_acc: 0.7143\n",
      "Epoch 15/35\n",
      "50/50 [==============================] - 77s 2s/step - loss: 0.5974 - acc: 0.6633 - val_loss: 0.5945 - val_acc: 0.7500\n",
      "Epoch 16/35\n",
      "50/50 [==============================] - 77s 2s/step - loss: 0.5454 - acc: 0.7500 - val_loss: 0.6975 - val_acc: 0.6920\n",
      "Epoch 17/35\n",
      "50/50 [==============================] - 77s 2s/step - loss: 0.5172 - acc: 0.7900 - val_loss: 0.6770 - val_acc: 0.6892\n",
      "Epoch 18/35\n",
      "50/50 [==============================] - 77s 2s/step - loss: 0.5397 - acc: 0.7267 - val_loss: 0.6373 - val_acc: 0.7143\n",
      "Epoch 19/35\n",
      "50/50 [==============================] - 77s 2s/step - loss: 0.5375 - acc: 0.7433 - val_loss: 0.5810 - val_acc: 0.7188\n",
      "Epoch 20/35\n",
      "50/50 [==============================] - 76s 2s/step - loss: 0.5821 - acc: 0.7101 - val_loss: 0.6145 - val_acc: 0.7143\n",
      "Epoch 21/35\n",
      "50/50 [==============================] - 77s 2s/step - loss: 0.5485 - acc: 0.7033 - val_loss: 0.5914 - val_acc: 0.6830\n",
      "Epoch 22/35\n",
      "50/50 [==============================] - 76s 2s/step - loss: 0.5087 - acc: 0.7400 - val_loss: 0.6526 - val_acc: 0.7297\n",
      "Epoch 23/35\n",
      "50/50 [==============================] - 77s 2s/step - loss: 0.5438 - acc: 0.7100 - val_loss: 0.6562 - val_acc: 0.6295\n",
      "Epoch 24/35\n",
      "50/50 [==============================] - 75s 2s/step - loss: 0.5616 - acc: 0.7266 - val_loss: 0.5860 - val_acc: 0.7143\n",
      "Epoch 25/35\n",
      "50/50 [==============================] - 76s 2s/step - loss: 0.5052 - acc: 0.7433 - val_loss: 0.6374 - val_acc: 0.6964\n",
      "Epoch 26/35\n",
      "50/50 [==============================] - 76s 2s/step - loss: 0.5327 - acc: 0.7267 - val_loss: 0.5802 - val_acc: 0.7117\n",
      "Epoch 27/35\n",
      "50/50 [==============================] - 76s 2s/step - loss: 0.4701 - acc: 0.7800 - val_loss: 0.6572 - val_acc: 0.7411\n",
      "Epoch 28/35\n",
      "50/50 [==============================] - 76s 2s/step - loss: 0.4732 - acc: 0.7867 - val_loss: 0.7957 - val_acc: 0.6875\n",
      "Epoch 29/35\n",
      "50/50 [==============================] - 77s 2s/step - loss: 0.5299 - acc: 0.7233 - val_loss: 0.6378 - val_acc: 0.7188\n",
      "Epoch 30/35\n",
      "50/50 [==============================] - 77s 2s/step - loss: 0.4935 - acc: 0.7700 - val_loss: 0.5405 - val_acc: 0.7658\n",
      "Epoch 31/35\n",
      "50/50 [==============================] - 77s 2s/step - loss: 0.5269 - acc: 0.7433 - val_loss: 0.5866 - val_acc: 0.7187\n",
      "Epoch 32/35\n",
      "50/50 [==============================] - 76s 2s/step - loss: 0.4557 - acc: 0.7699 - val_loss: 0.6188 - val_acc: 0.8080\n",
      "Epoch 33/35\n",
      "50/50 [==============================] - 77s 2s/step - loss: 0.4784 - acc: 0.7667 - val_loss: 0.6054 - val_acc: 0.7634\n",
      "Epoch 34/35\n",
      "50/50 [==============================] - 77s 2s/step - loss: 0.4319 - acc: 0.8267 - val_loss: 0.7257 - val_acc: 0.7477\n",
      "Epoch 35/35\n",
      "50/50 [==============================] - 77s 2s/step - loss: 0.4418 - acc: 0.8033 - val_loss: 0.5633 - val_acc: 0.7589\n"
     ]
    },
    {
     "data": {
      "text/plain": [
       "<keras.callbacks.History at 0x7f74e753b898>"
      ]
     },
     "execution_count": 92,
     "metadata": {
      "tags": []
     },
     "output_type": "execute_result"
    }
   ],
   "source": [
    "## fitting model to images\n",
    "classifier.fit_generator(\n",
    "        train_set,\n",
    "        steps_per_epoch=50, # number of images it will take per epoch,(it is actually equalant to batch_size),\n",
    "                            # if we leave it system will take some number\n",
    "        epochs=35,\n",
    "        validation_data=test_set, # it will show test accuracy ()\n",
    "        validation_steps=38)\n",
    "\n",
    "# Note: validation is checking the test accuracy."
   ]
  },
  {
   "cell_type": "code",
   "execution_count": 0,
   "metadata": {
    "colab": {},
    "colab_type": "code",
    "id": "MY9LqXb2FTFQ"
   },
   "outputs": [],
   "source": [
    "## prediction of single new data\n",
    "import numpy as np\n",
    "from keras.preprocessing import image\n",
    "test_image= image.load_img('/content/drive/My Drive/pizza-assignment/inference/good1.jpg'\n",
    "                           ,target_size =(150,150))\n"
   ]
  },
  {
   "cell_type": "code",
   "execution_count": 94,
   "metadata": {
    "colab": {
     "base_uri": "https://localhost:8080/",
     "height": 167
    },
    "colab_type": "code",
    "id": "BgChWCvdFTFW",
    "outputId": "b6169776-2c4c-4727-977a-093b33a21b33"
   },
   "outputs": [
    {
     "data": {
      "image/png": "[encoded data removed]",
      "text/plain": [
       "<PIL.Image.Image image mode=RGB size=150x150 at 0x7F74E7E70630>"
      ]
     },
     "execution_count": 94,
     "metadata": {
      "tags": []
     },
     "output_type": "execute_result"
    }
   ],
   "source": [
    "test_image"
   ]
  },
  {
   "cell_type": "code",
   "execution_count": 0,
   "metadata": {
    "colab": {},
    "colab_type": "code",
    "id": "9KqchDSOFTFb"
   },
   "outputs": [],
   "source": [
    "## Convert image to array\n",
    "test_image = image.img_to_array(test_image)"
   ]
  },
  {
   "cell_type": "code",
   "execution_count": 0,
   "metadata": {
    "colab": {},
    "colab_type": "code",
    "id": "cfrlS_H-FTFj"
   },
   "outputs": [],
   "source": [
    "## For single prediction change the dimension using axis. To remove problem of batch\n",
    "\n",
    "test_image=test_image.reshape(1,150,150,3)"
   ]
  },
  {
   "cell_type": "code",
   "execution_count": 97,
   "metadata": {
    "colab": {
     "base_uri": "https://localhost:8080/",
     "height": 34
    },
    "colab_type": "code",
    "id": "zQlaW1pMFTFn",
    "outputId": "56ef44b9-2394-4be6-93d3-d7a12310c56b"
   },
   "outputs": [
    {
     "data": {
      "text/plain": [
       "array([[1.]], dtype=float32)"
      ]
     },
     "execution_count": 97,
     "metadata": {
      "tags": []
     },
     "output_type": "execute_result"
    }
   ],
   "source": [
    "result = classifier.predict(test_image)\n",
    "result"
   ]
  },
  {
   "cell_type": "code",
   "execution_count": 0,
   "metadata": {
    "colab": {},
    "colab_type": "code",
    "id": "7-qcSUuzFTF0"
   },
   "outputs": [],
   "source": [
    "## Class label of dog and cat\n",
    "\n",
    "if result == 1:\n",
    "    prediction = 'Good Pizza'\n",
    "else:\n",
    "    prediction = 'Burnt Pizza'\n",
    "    "
   ]
  },
  {
   "cell_type": "code",
   "execution_count": 99,
   "metadata": {
    "colab": {
     "base_uri": "https://localhost:8080/",
     "height": 34
    },
    "colab_type": "code",
    "id": "HBXiarK6FTGF",
    "outputId": "1df69fe0-ae91-4c96-ac3d-66383fc27315"
   },
   "outputs": [
    {
     "data": {
      "text/plain": [
       "'Good Pizza'"
      ]
     },
     "execution_count": 99,
     "metadata": {
      "tags": []
     },
     "output_type": "execute_result"
    }
   ],
   "source": [
    "prediction"
   ]
  },
  {
   "cell_type": "markdown",
   "metadata": {
    "colab_type": "text",
    "id": "BNWwpHeJFTGN"
   },
   "source": [
    "# saving weights"
   ]
  },
  {
   "cell_type": "code",
   "execution_count": 0,
   "metadata": {
    "colab": {},
    "colab_type": "code",
    "id": "KkRoYkBzFTGP",
    "outputId": "3c52eefb-3d5b-47db-8ab1-9eab4ee28c6f"
   },
   "outputs": [
    {
     "name": "stdout",
     "output_type": "stream",
     "text": [
      "Saved model to disk\n"
     ]
    }
   ],
   "source": [
    "# serialize model to JSON\n",
    "\n",
    "model_json = classifier.to_json()\n",
    "with open(\"model.json\",\"w\") as json_file:\n",
    "    json_file.write(model_json)\n",
    "# serialize weights to disk\n",
    "classifier.save_weights(\"model.h5\")\n",
    "print(\"Saved model to disk\")"
   ]
  },
  {
   "cell_type": "code",
   "execution_count": 0,
   "metadata": {
    "colab": {},
    "colab_type": "code",
    "id": "ShM4zHObFTGV"
   },
   "outputs": [],
   "source": []
  }
 ],
 "metadata": {
  "colab": {
   "name": "Pizza_Prediction.ipynb",
   "provenance": [],
   "version": "0.3.2"
  },
  "kernelspec": {
   "display_name": "Python 3",
   "language": "python",
   "name": "python3"
  },
  "language_info": {
   "codemirror_mode": {
    "name": "ipython",
    "version": 3
   },
   "file_extension": ".py",
   "mimetype": "text/x-python",
   "name": "python",
   "nbconvert_exporter": "python",
   "pygments_lexer": "ipython3",
   "version": "3.7.1"
  }
 },
 "nbformat": 4,
 "nbformat_minor": 1
}
